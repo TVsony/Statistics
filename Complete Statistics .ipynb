{
 "cells": [
  {
   "cell_type": "code",
   "execution_count": 1,
   "id": "d83995a8-d314-4ca4-9b07-0856d18ec749",
   "metadata": {},
   "outputs": [],
   "source": [
    "import pandas as pd\n",
    "import numpy as np\n",
    "import seaborn as sns\n",
    "import scipy as st\n",
    "import matplotlib.pyplot as plt "
   ]
  },
  {
   "cell_type": "markdown",
   "id": "c2a9f16b-afa9-475d-9d6a-f2c8641d9e63",
   "metadata": {},
   "source": [
    "## Statistics using Numpy \n",
    "- Measure of central tendency\n",
    "  - Mean\n",
    "  - median\n",
    "  - mode\n",
    "\n",
    "- Measure of Dispersion\n",
    "  - variance\n",
    "  - Standard deviation\n",
    "  - range\n",
    "  - IQR\n",
    "  - percentile"
   ]
  },
  {
   "cell_type": "code",
   "execution_count": 2,
   "id": "ef79c3be-00a6-47ad-9120-df5894f87bb1",
   "metadata": {},
   "outputs": [],
   "source": [
    "a = np.array([47,5,9,22,23,12,10.77]) "
   ]
  },
  {
   "cell_type": "code",
   "execution_count": 3,
   "id": "0e89af8b-0e40-4ea8-b2c9-ab7a099d3207",
   "metadata": {},
   "outputs": [
    {
     "data": {
      "text/plain": [
       "18.395714285714288"
      ]
     },
     "execution_count": 3,
     "metadata": {},
     "output_type": "execute_result"
    }
   ],
   "source": [
    "np.mean(a)"
   ]
  },
  {
   "cell_type": "code",
   "execution_count": 4,
   "id": "1777fb90-082f-40ef-8115-e2545121d5c1",
   "metadata": {},
   "outputs": [
    {
     "data": {
      "text/plain": [
       "453.7142857142857"
      ]
     },
     "execution_count": 4,
     "metadata": {},
     "output_type": "execute_result"
    }
   ],
   "source": [
    "b =np.array([677,999,100,200,300,400,500])\n",
    "np.mean(b)"
   ]
  },
  {
   "cell_type": "code",
   "execution_count": 5,
   "id": "7a4b9c4a-5ac2-419f-a6cf-b9404a30c7ab",
   "metadata": {},
   "outputs": [
    {
     "data": {
      "text/plain": [
       "453.71"
      ]
     },
     "execution_count": 5,
     "metadata": {},
     "output_type": "execute_result"
    }
   ],
   "source": [
    "round(np.mean(b),2)"
   ]
  },
  {
   "cell_type": "code",
   "execution_count": 6,
   "id": "ba292786-182a-4d4a-aa0a-b599273752c0",
   "metadata": {},
   "outputs": [
    {
     "data": {
      "text/plain": [
       "12.0"
      ]
     },
     "execution_count": 6,
     "metadata": {},
     "output_type": "execute_result"
    }
   ],
   "source": [
    "np.median(a)"
   ]
  },
  {
   "cell_type": "code",
   "execution_count": 7,
   "id": "274b0113-874c-46d7-855f-2f6fa63555e0",
   "metadata": {},
   "outputs": [
    {
     "data": {
      "text/plain": [
       "400.0"
      ]
     },
     "execution_count": 7,
     "metadata": {},
     "output_type": "execute_result"
    }
   ],
   "source": [
    "np.median(b)"
   ]
  },
  {
   "cell_type": "code",
   "execution_count": 8,
   "id": "2be1a55f-b51f-446e-9bf9-a6009504b7cf",
   "metadata": {},
   "outputs": [
    {
     "data": {
      "text/plain": [
       "100"
      ]
     },
     "execution_count": 8,
     "metadata": {},
     "output_type": "execute_result"
    }
   ],
   "source": [
    "b.min()"
   ]
  },
  {
   "cell_type": "code",
   "execution_count": 9,
   "id": "482a77a5-dacc-49a7-a61d-e63341e003b8",
   "metadata": {},
   "outputs": [
    {
     "data": {
      "text/plain": [
       "5.0"
      ]
     },
     "execution_count": 9,
     "metadata": {},
     "output_type": "execute_result"
    }
   ],
   "source": [
    "a.min()"
   ]
  },
  {
   "cell_type": "code",
   "execution_count": 10,
   "id": "53c020b3-ce73-4558-b742-303dd0160d6a",
   "metadata": {},
   "outputs": [
    {
     "data": {
      "text/plain": [
       "47.0"
      ]
     },
     "execution_count": 10,
     "metadata": {},
     "output_type": "execute_result"
    }
   ],
   "source": [
    "a.max()"
   ]
  },
  {
   "cell_type": "code",
   "execution_count": 11,
   "id": "8f7b06aa-1080-4b86-9b02-0ee9791d5658",
   "metadata": {},
   "outputs": [
    {
     "data": {
      "text/plain": [
       "999"
      ]
     },
     "execution_count": 11,
     "metadata": {},
     "output_type": "execute_result"
    }
   ],
   "source": [
    "b.max()"
   ]
  },
  {
   "cell_type": "code",
   "execution_count": 12,
   "id": "2dc95e87-229b-4573-b8c9-8cde06763eed",
   "metadata": {},
   "outputs": [
    {
     "data": {
      "text/plain": [
       "899"
      ]
     },
     "execution_count": 12,
     "metadata": {},
     "output_type": "execute_result"
    }
   ],
   "source": [
    "rangeb = b.max()-b.min()\n",
    "rangeb"
   ]
  },
  {
   "cell_type": "code",
   "execution_count": 13,
   "id": "bba06857-2975-4d28-adfe-e01237198dfb",
   "metadata": {},
   "outputs": [],
   "source": [
    "variance = np.var(b)"
   ]
  },
  {
   "cell_type": "code",
   "execution_count": 14,
   "id": "7547a959-efdb-4474-b72d-9887193323f8",
   "metadata": {},
   "outputs": [
    {
     "data": {
      "text/plain": [
       "80761.92"
      ]
     },
     "execution_count": 14,
     "metadata": {},
     "output_type": "execute_result"
    }
   ],
   "source": [
    "round(variance,2)"
   ]
  },
  {
   "cell_type": "code",
   "execution_count": 15,
   "id": "b96fff96-5bb1-448a-8a98-dd6973ebc967",
   "metadata": {},
   "outputs": [
    {
     "data": {
      "text/plain": [
       "174.17"
      ]
     },
     "execution_count": 15,
     "metadata": {},
     "output_type": "execute_result"
    }
   ],
   "source": [
    "varianceA = np.var(a)\n",
    "round(varianceA,2)"
   ]
  },
  {
   "cell_type": "code",
   "execution_count": 16,
   "id": "a2f8a746-3433-431c-8078-341458981f8b",
   "metadata": {},
   "outputs": [
    {
     "data": {
      "text/plain": [
       "13.2"
      ]
     },
     "execution_count": 16,
     "metadata": {},
     "output_type": "execute_result"
    }
   ],
   "source": [
    "Standard_deviation = np.std(a)\n",
    "round(Standard_deviation,1) "
   ]
  },
  {
   "cell_type": "code",
   "execution_count": 17,
   "id": "dc664f31-cf7c-4895-9e00-4e3f3b3aead2",
   "metadata": {},
   "outputs": [
    {
     "name": "stdout",
     "output_type": "stream",
     "text": [
      "284.2\n"
     ]
    }
   ],
   "source": [
    "Standard_deviation1 = np.std(b)\n",
    "print(round(Standard_deviation1,1))"
   ]
  },
  {
   "cell_type": "code",
   "execution_count": 18,
   "id": "c4039439-bf4f-434f-bcc7-12455961ef3d",
   "metadata": {},
   "outputs": [
    {
     "data": {
      "text/plain": [
       "250.0"
      ]
     },
     "execution_count": 18,
     "metadata": {},
     "output_type": "execute_result"
    }
   ],
   "source": [
    "Q1 = np.percentile(b,25)\n",
    "Q1"
   ]
  },
  {
   "cell_type": "code",
   "execution_count": 19,
   "id": "65a62f39-44d7-4522-aa8f-cb7b9e00227b",
   "metadata": {},
   "outputs": [
    {
     "data": {
      "text/plain": [
       "400.0"
      ]
     },
     "execution_count": 19,
     "metadata": {},
     "output_type": "execute_result"
    }
   ],
   "source": [
    "Q2 = np.percentile(b,50)\n",
    "Q2"
   ]
  },
  {
   "cell_type": "code",
   "execution_count": 20,
   "id": "edc6babc-0e2a-4021-ad33-01ad5f66f996",
   "metadata": {},
   "outputs": [
    {
     "data": {
      "text/plain": [
       "588.5"
      ]
     },
     "execution_count": 20,
     "metadata": {},
     "output_type": "execute_result"
    }
   ],
   "source": [
    "Q3 = np.percentile(b,75)\n",
    "Q3"
   ]
  },
  {
   "cell_type": "code",
   "execution_count": 21,
   "id": "dcdee379-9aa5-47b7-9fc1-f1122b9cd9c8",
   "metadata": {},
   "outputs": [],
   "source": [
    "IQR = Q3-Q1"
   ]
  },
  {
   "cell_type": "code",
   "execution_count": 22,
   "id": "466ec1ee-9145-494b-8998-6499e6957a78",
   "metadata": {},
   "outputs": [
    {
     "data": {
      "text/plain": [
       "338.5"
      ]
     },
     "execution_count": 22,
     "metadata": {},
     "output_type": "execute_result"
    }
   ],
   "source": [
    "IQR"
   ]
  },
  {
   "cell_type": "code",
   "execution_count": 23,
   "id": "0413dcca-ef9a-467b-bb13-3bc75423be02",
   "metadata": {},
   "outputs": [
    {
     "data": {
      "text/plain": [
       "-257.75"
      ]
     },
     "execution_count": 23,
     "metadata": {},
     "output_type": "execute_result"
    }
   ],
   "source": [
    "lower_fence = Q1 - (1.5*IQR)\n",
    "lower_fence"
   ]
  },
  {
   "cell_type": "code",
   "execution_count": 24,
   "id": "52bca1c5-152f-4c76-bb46-c7a07351d301",
   "metadata": {},
   "outputs": [
    {
     "data": {
      "text/plain": [
       "1096.25"
      ]
     },
     "execution_count": 24,
     "metadata": {},
     "output_type": "execute_result"
    }
   ],
   "source": [
    "upper_fence = Q3 + (1.5*IQR)\n",
    "upper_fence"
   ]
  },
  {
   "cell_type": "code",
   "execution_count": 25,
   "id": "d4d266de-0a41-4ff3-aec2-75e4f044bf24",
   "metadata": {},
   "outputs": [
    {
     "name": "stdout",
     "output_type": "stream",
     "text": [
      "[62, 56, 37, 31, 21, 33, 32, 52, 37, 37]\n"
     ]
    }
   ],
   "source": [
    "# You can generate the data set using import random lib\n",
    "import random \n",
    "data = []\n",
    "\n",
    "for _ in range(10):\n",
    "    random_number = random.randint(20,70)\n",
    "    data.append(random_number)\n",
    "    \n",
    "print(data)"
   ]
  },
  {
   "cell_type": "code",
   "execution_count": 26,
   "id": "cde36268-5a8c-4e06-925f-29ac9e607342",
   "metadata": {},
   "outputs": [],
   "source": [
    "# pandas libary used to import the dataset \n",
    "import pandas as pd\n",
    "data= pd.read_csv(\"iris.csv\")"
   ]
  },
  {
   "cell_type": "code",
   "execution_count": 27,
   "id": "2405271c-d251-4f1e-9fd1-0cb7527b544b",
   "metadata": {},
   "outputs": [
    {
     "data": {
      "text/html": [
       "<div>\n",
       "<style scoped>\n",
       "    .dataframe tbody tr th:only-of-type {\n",
       "        vertical-align: middle;\n",
       "    }\n",
       "\n",
       "    .dataframe tbody tr th {\n",
       "        vertical-align: top;\n",
       "    }\n",
       "\n",
       "    .dataframe thead th {\n",
       "        text-align: right;\n",
       "    }\n",
       "</style>\n",
       "<table border=\"1\" class=\"dataframe\">\n",
       "  <thead>\n",
       "    <tr style=\"text-align: right;\">\n",
       "      <th></th>\n",
       "      <th>sepal length</th>\n",
       "      <th>sepal width</th>\n",
       "      <th>petal length</th>\n",
       "      <th>petal width</th>\n",
       "      <th>class</th>\n",
       "    </tr>\n",
       "  </thead>\n",
       "  <tbody>\n",
       "    <tr>\n",
       "      <th>0</th>\n",
       "      <td>5.1</td>\n",
       "      <td>3.5</td>\n",
       "      <td>1.4</td>\n",
       "      <td>0.2</td>\n",
       "      <td>Iris-setosa</td>\n",
       "    </tr>\n",
       "    <tr>\n",
       "      <th>1</th>\n",
       "      <td>4.9</td>\n",
       "      <td>3.0</td>\n",
       "      <td>1.4</td>\n",
       "      <td>0.2</td>\n",
       "      <td>Iris-setosa</td>\n",
       "    </tr>\n",
       "    <tr>\n",
       "      <th>2</th>\n",
       "      <td>4.7</td>\n",
       "      <td>3.2</td>\n",
       "      <td>1.3</td>\n",
       "      <td>0.2</td>\n",
       "      <td>Iris-setosa</td>\n",
       "    </tr>\n",
       "    <tr>\n",
       "      <th>3</th>\n",
       "      <td>4.6</td>\n",
       "      <td>3.1</td>\n",
       "      <td>1.5</td>\n",
       "      <td>0.2</td>\n",
       "      <td>Iris-setosa</td>\n",
       "    </tr>\n",
       "    <tr>\n",
       "      <th>4</th>\n",
       "      <td>5.0</td>\n",
       "      <td>3.6</td>\n",
       "      <td>1.4</td>\n",
       "      <td>0.2</td>\n",
       "      <td>Iris-setosa</td>\n",
       "    </tr>\n",
       "  </tbody>\n",
       "</table>\n",
       "</div>"
      ],
      "text/plain": [
       "   sepal length  sepal width  petal length  petal width        class\n",
       "0           5.1          3.5           1.4          0.2  Iris-setosa\n",
       "1           4.9          3.0           1.4          0.2  Iris-setosa\n",
       "2           4.7          3.2           1.3          0.2  Iris-setosa\n",
       "3           4.6          3.1           1.5          0.2  Iris-setosa\n",
       "4           5.0          3.6           1.4          0.2  Iris-setosa"
      ]
     },
     "execution_count": 27,
     "metadata": {},
     "output_type": "execute_result"
    }
   ],
   "source": [
    "data.head()"
   ]
  },
  {
   "cell_type": "code",
   "execution_count": 28,
   "id": "ee12073a-79a3-4f22-be51-85f87f0c0ab9",
   "metadata": {},
   "outputs": [
    {
     "data": {
      "text/html": [
       "<div>\n",
       "<style scoped>\n",
       "    .dataframe tbody tr th:only-of-type {\n",
       "        vertical-align: middle;\n",
       "    }\n",
       "\n",
       "    .dataframe tbody tr th {\n",
       "        vertical-align: top;\n",
       "    }\n",
       "\n",
       "    .dataframe thead th {\n",
       "        text-align: right;\n",
       "    }\n",
       "</style>\n",
       "<table border=\"1\" class=\"dataframe\">\n",
       "  <thead>\n",
       "    <tr style=\"text-align: right;\">\n",
       "      <th></th>\n",
       "      <th>sepal length</th>\n",
       "      <th>sepal width</th>\n",
       "      <th>petal length</th>\n",
       "      <th>petal width</th>\n",
       "      <th>class</th>\n",
       "    </tr>\n",
       "  </thead>\n",
       "  <tbody>\n",
       "    <tr>\n",
       "      <th>145</th>\n",
       "      <td>6.7</td>\n",
       "      <td>3.0</td>\n",
       "      <td>5.2</td>\n",
       "      <td>2.3</td>\n",
       "      <td>Iris-virginica</td>\n",
       "    </tr>\n",
       "    <tr>\n",
       "      <th>146</th>\n",
       "      <td>6.3</td>\n",
       "      <td>2.5</td>\n",
       "      <td>5.0</td>\n",
       "      <td>1.9</td>\n",
       "      <td>Iris-virginica</td>\n",
       "    </tr>\n",
       "    <tr>\n",
       "      <th>147</th>\n",
       "      <td>6.5</td>\n",
       "      <td>3.0</td>\n",
       "      <td>5.2</td>\n",
       "      <td>2.0</td>\n",
       "      <td>Iris-virginica</td>\n",
       "    </tr>\n",
       "    <tr>\n",
       "      <th>148</th>\n",
       "      <td>6.2</td>\n",
       "      <td>3.4</td>\n",
       "      <td>5.4</td>\n",
       "      <td>2.3</td>\n",
       "      <td>Iris-virginica</td>\n",
       "    </tr>\n",
       "    <tr>\n",
       "      <th>149</th>\n",
       "      <td>5.9</td>\n",
       "      <td>3.0</td>\n",
       "      <td>5.1</td>\n",
       "      <td>1.8</td>\n",
       "      <td>Iris-virginica</td>\n",
       "    </tr>\n",
       "  </tbody>\n",
       "</table>\n",
       "</div>"
      ],
      "text/plain": [
       "     sepal length  sepal width  petal length  petal width           class\n",
       "145           6.7          3.0           5.2          2.3  Iris-virginica\n",
       "146           6.3          2.5           5.0          1.9  Iris-virginica\n",
       "147           6.5          3.0           5.2          2.0  Iris-virginica\n",
       "148           6.2          3.4           5.4          2.3  Iris-virginica\n",
       "149           5.9          3.0           5.1          1.8  Iris-virginica"
      ]
     },
     "execution_count": 28,
     "metadata": {},
     "output_type": "execute_result"
    }
   ],
   "source": [
    "data.tail()"
   ]
  },
  {
   "cell_type": "code",
   "execution_count": 29,
   "id": "005eddbc-5da1-4e98-9494-1a6f09af153d",
   "metadata": {},
   "outputs": [
    {
     "data": {
      "text/html": [
       "<div>\n",
       "<style scoped>\n",
       "    .dataframe tbody tr th:only-of-type {\n",
       "        vertical-align: middle;\n",
       "    }\n",
       "\n",
       "    .dataframe tbody tr th {\n",
       "        vertical-align: top;\n",
       "    }\n",
       "\n",
       "    .dataframe thead th {\n",
       "        text-align: right;\n",
       "    }\n",
       "</style>\n",
       "<table border=\"1\" class=\"dataframe\">\n",
       "  <thead>\n",
       "    <tr style=\"text-align: right;\">\n",
       "      <th></th>\n",
       "      <th>PassengerId</th>\n",
       "      <th>Survived</th>\n",
       "      <th>Pclass</th>\n",
       "      <th>Name</th>\n",
       "      <th>Sex</th>\n",
       "      <th>Age</th>\n",
       "      <th>SibSp</th>\n",
       "      <th>Parch</th>\n",
       "      <th>Ticket</th>\n",
       "      <th>Fare</th>\n",
       "      <th>Cabin</th>\n",
       "      <th>Embarked</th>\n",
       "    </tr>\n",
       "  </thead>\n",
       "  <tbody>\n",
       "    <tr>\n",
       "      <th>0</th>\n",
       "      <td>1</td>\n",
       "      <td>0</td>\n",
       "      <td>3</td>\n",
       "      <td>Braund, Mr. Owen Harris</td>\n",
       "      <td>male</td>\n",
       "      <td>22.0</td>\n",
       "      <td>1</td>\n",
       "      <td>0</td>\n",
       "      <td>A/5 21171</td>\n",
       "      <td>7.2500</td>\n",
       "      <td>NaN</td>\n",
       "      <td>S</td>\n",
       "    </tr>\n",
       "    <tr>\n",
       "      <th>1</th>\n",
       "      <td>2</td>\n",
       "      <td>1</td>\n",
       "      <td>1</td>\n",
       "      <td>Cumings, Mrs. John Bradley (Florence Briggs Th...</td>\n",
       "      <td>female</td>\n",
       "      <td>38.0</td>\n",
       "      <td>1</td>\n",
       "      <td>0</td>\n",
       "      <td>PC 17599</td>\n",
       "      <td>71.2833</td>\n",
       "      <td>C85</td>\n",
       "      <td>C</td>\n",
       "    </tr>\n",
       "    <tr>\n",
       "      <th>2</th>\n",
       "      <td>3</td>\n",
       "      <td>1</td>\n",
       "      <td>3</td>\n",
       "      <td>Heikkinen, Miss. Laina</td>\n",
       "      <td>female</td>\n",
       "      <td>26.0</td>\n",
       "      <td>0</td>\n",
       "      <td>0</td>\n",
       "      <td>STON/O2. 3101282</td>\n",
       "      <td>7.9250</td>\n",
       "      <td>NaN</td>\n",
       "      <td>S</td>\n",
       "    </tr>\n",
       "    <tr>\n",
       "      <th>3</th>\n",
       "      <td>4</td>\n",
       "      <td>1</td>\n",
       "      <td>1</td>\n",
       "      <td>Futrelle, Mrs. Jacques Heath (Lily May Peel)</td>\n",
       "      <td>female</td>\n",
       "      <td>35.0</td>\n",
       "      <td>1</td>\n",
       "      <td>0</td>\n",
       "      <td>113803</td>\n",
       "      <td>53.1000</td>\n",
       "      <td>C123</td>\n",
       "      <td>S</td>\n",
       "    </tr>\n",
       "    <tr>\n",
       "      <th>4</th>\n",
       "      <td>5</td>\n",
       "      <td>0</td>\n",
       "      <td>3</td>\n",
       "      <td>Allen, Mr. William Henry</td>\n",
       "      <td>male</td>\n",
       "      <td>35.0</td>\n",
       "      <td>0</td>\n",
       "      <td>0</td>\n",
       "      <td>373450</td>\n",
       "      <td>8.0500</td>\n",
       "      <td>NaN</td>\n",
       "      <td>S</td>\n",
       "    </tr>\n",
       "  </tbody>\n",
       "</table>\n",
       "</div>"
      ],
      "text/plain": [
       "   PassengerId  Survived  Pclass  \\\n",
       "0            1         0       3   \n",
       "1            2         1       1   \n",
       "2            3         1       3   \n",
       "3            4         1       1   \n",
       "4            5         0       3   \n",
       "\n",
       "                                                Name     Sex   Age  SibSp  \\\n",
       "0                            Braund, Mr. Owen Harris    male  22.0      1   \n",
       "1  Cumings, Mrs. John Bradley (Florence Briggs Th...  female  38.0      1   \n",
       "2                             Heikkinen, Miss. Laina  female  26.0      0   \n",
       "3       Futrelle, Mrs. Jacques Heath (Lily May Peel)  female  35.0      1   \n",
       "4                           Allen, Mr. William Henry    male  35.0      0   \n",
       "\n",
       "   Parch            Ticket     Fare Cabin Embarked  \n",
       "0      0         A/5 21171   7.2500   NaN        S  \n",
       "1      0          PC 17599  71.2833   C85        C  \n",
       "2      0  STON/O2. 3101282   7.9250   NaN        S  \n",
       "3      0            113803  53.1000  C123        S  \n",
       "4      0            373450   8.0500   NaN        S  "
      ]
     },
     "execution_count": 29,
     "metadata": {},
     "output_type": "execute_result"
    }
   ],
   "source": [
    "data1= pd.read_csv(\"titanic_train.csv\")\n",
    "data1.head()"
   ]
  },
  {
   "cell_type": "code",
   "execution_count": 30,
   "id": "283384db-d8b3-40e9-bc2c-ae81072775b2",
   "metadata": {},
   "outputs": [
    {
     "data": {
      "text/plain": [
       "Index(['sepal length', 'sepal width', 'petal length', 'petal width', 'class'], dtype='object')"
      ]
     },
     "execution_count": 30,
     "metadata": {},
     "output_type": "execute_result"
    }
   ],
   "source": [
    "data.columns"
   ]
  },
  {
   "cell_type": "code",
   "execution_count": 31,
   "id": "5b890232-43ed-4ce5-a946-42e02546b484",
   "metadata": {},
   "outputs": [
    {
     "data": {
      "text/plain": [
       "5.843333333333334"
      ]
     },
     "execution_count": 31,
     "metadata": {},
     "output_type": "execute_result"
    }
   ],
   "source": [
    "np.mean(data[\"sepal length\"])"
   ]
  },
  {
   "cell_type": "code",
   "execution_count": 32,
   "id": "618e7d20-5afa-4934-b8c7-1d4ed7c6adf4",
   "metadata": {},
   "outputs": [
    {
     "data": {
      "text/plain": [
       "5.8"
      ]
     },
     "execution_count": 32,
     "metadata": {},
     "output_type": "execute_result"
    }
   ],
   "source": [
    "np.median(data['sepal length'])"
   ]
  },
  {
   "cell_type": "code",
   "execution_count": 33,
   "id": "9c525dcb-1a86-4da2-be99-0d9210622e6a",
   "metadata": {},
   "outputs": [
    {
     "data": {
      "text/plain": [
       "0.6811222222222222"
      ]
     },
     "execution_count": 33,
     "metadata": {},
     "output_type": "execute_result"
    }
   ],
   "source": [
    "np.var(data['sepal length'])"
   ]
  },
  {
   "cell_type": "code",
   "execution_count": 34,
   "id": "4f53ea9e-cf91-4321-8a2d-ef2b4f6b2fd1",
   "metadata": {},
   "outputs": [
    {
     "data": {
      "text/plain": [
       "0.8253012917851409"
      ]
     },
     "execution_count": 34,
     "metadata": {},
     "output_type": "execute_result"
    }
   ],
   "source": [
    "np.std(data['sepal length'])"
   ]
  },
  {
   "cell_type": "code",
   "execution_count": 35,
   "id": "6f659498-c202-4e13-b97e-719181ef2894",
   "metadata": {},
   "outputs": [
    {
     "data": {
      "text/plain": [
       "7.9"
      ]
     },
     "execution_count": 35,
     "metadata": {},
     "output_type": "execute_result"
    }
   ],
   "source": [
    "maximum = np.max(data['sepal length'])\n",
    "maximum "
   ]
  },
  {
   "cell_type": "code",
   "execution_count": 36,
   "id": "da68de1e-d2d6-4f76-994a-8cf9fa752b4e",
   "metadata": {},
   "outputs": [
    {
     "data": {
      "text/plain": [
       "4.3"
      ]
     },
     "execution_count": 36,
     "metadata": {},
     "output_type": "execute_result"
    }
   ],
   "source": [
    "minimum = np.min(data['sepal length'])\n",
    "minimum"
   ]
  },
  {
   "cell_type": "code",
   "execution_count": 37,
   "id": "e6facc46-0592-4540-9d00-e7651717f729",
   "metadata": {},
   "outputs": [
    {
     "data": {
      "text/plain": [
       "3.6000000000000005"
      ]
     },
     "execution_count": 37,
     "metadata": {},
     "output_type": "execute_result"
    }
   ],
   "source": [
    "range = maximum - minimum\n",
    "range"
   ]
  },
  {
   "cell_type": "code",
   "execution_count": 38,
   "id": "9086ab0d-e049-49e4-8f39-cdf00ca6ddd3",
   "metadata": {},
   "outputs": [
    {
     "data": {
      "text/plain": [
       "3.6000000000000005"
      ]
     },
     "execution_count": 38,
     "metadata": {},
     "output_type": "execute_result"
    }
   ],
   "source": [
    "range = (np.max(data['sepal length'])) - (np.min(data['sepal length']))\n",
    "range"
   ]
  },
  {
   "cell_type": "code",
   "execution_count": 39,
   "id": "69f80f29-09a7-4ddc-b381-bad59659bec8",
   "metadata": {},
   "outputs": [
    {
     "data": {
      "text/plain": [
       "5.1"
      ]
     },
     "execution_count": 39,
     "metadata": {},
     "output_type": "execute_result"
    }
   ],
   "source": [
    "Q1 = np.percentile(data['sepal length'],25)\n",
    "Q1"
   ]
  },
  {
   "cell_type": "code",
   "execution_count": 40,
   "id": "0e6abd15-01d2-495a-bb6c-3e647bf07489",
   "metadata": {},
   "outputs": [
    {
     "data": {
      "text/plain": [
       "6.4"
      ]
     },
     "execution_count": 40,
     "metadata": {},
     "output_type": "execute_result"
    }
   ],
   "source": [
    "Q3 = np.percentile(data['sepal length'],75)\n",
    "Q3"
   ]
  },
  {
   "cell_type": "code",
   "execution_count": 41,
   "id": "31ee3ca3-c5d5-45bc-abbb-c5191d71122c",
   "metadata": {},
   "outputs": [],
   "source": [
    "IQR = Q3 - Q1"
   ]
  },
  {
   "cell_type": "code",
   "execution_count": 42,
   "id": "03ba0831-f334-4263-8d41-39f1859476ae",
   "metadata": {},
   "outputs": [
    {
     "data": {
      "text/plain": [
       "1.3"
      ]
     },
     "execution_count": 42,
     "metadata": {},
     "output_type": "execute_result"
    }
   ],
   "source": [
    "round(IQR,2)"
   ]
  },
  {
   "cell_type": "code",
   "execution_count": 43,
   "id": "f54e56a1-79e1-46c9-b396-bb2a444ca5e5",
   "metadata": {},
   "outputs": [
    {
     "name": "stdout",
     "output_type": "stream",
     "text": [
      "1.3\n"
     ]
    }
   ],
   "source": [
    "Q1, Q3 = np.percentile(data['sepal length'], [25, 75])  # Pass as a list\n",
    "IQR = Q3 - Q1\n",
    "print(round(IQR,2))"
   ]
  },
  {
   "cell_type": "code",
   "execution_count": 44,
   "id": "17db4d30-ffe5-45b9-b88d-ab837a49841d",
   "metadata": {},
   "outputs": [
    {
     "data": {
      "text/plain": [
       "3.1499999999999986"
      ]
     },
     "execution_count": 44,
     "metadata": {},
     "output_type": "execute_result"
    }
   ],
   "source": [
    "lowerside = Q1 - (1.5 * IQR)\n",
    "lowerside"
   ]
  },
  {
   "cell_type": "code",
   "execution_count": 45,
   "id": "21b39510-64b4-4707-9a38-b7f551c40901",
   "metadata": {},
   "outputs": [
    {
     "data": {
      "text/plain": [
       "8.350000000000001"
      ]
     },
     "execution_count": 45,
     "metadata": {},
     "output_type": "execute_result"
    }
   ],
   "source": [
    "upperside = Q3 + (1.5 * IQR)\n",
    "upperside"
   ]
  },
  {
   "cell_type": "code",
   "execution_count": 46,
   "id": "78642817-7e99-44da-906f-bdbd7893953c",
   "metadata": {},
   "outputs": [
    {
     "data": {
      "text/plain": [
       "8.35"
      ]
     },
     "execution_count": 46,
     "metadata": {},
     "output_type": "execute_result"
    }
   ],
   "source": [
    "round(upperside,2)"
   ]
  },
  {
   "cell_type": "code",
   "execution_count": 47,
   "id": "b3eafb1c-d74a-4af1-b0fa-da2f13db1f42",
   "metadata": {},
   "outputs": [],
   "source": [
    "del range  # Removes the incorrect assignment"
   ]
  },
  {
   "cell_type": "markdown",
   "id": "ec3a63bf-7cc5-482a-878e-5fc1353c75b9",
   "metadata": {},
   "source": [
    "## Outlier Affecting the mean "
   ]
  },
  {
   "cell_type": "code",
   "execution_count": 48,
   "id": "50cd6716-fe51-4c8d-ba05-822a6b6f0c9f",
   "metadata": {},
   "outputs": [
    {
     "name": "stdout",
     "output_type": "stream",
     "text": [
      "[41, 23, 28, 69, 33, 30, 52, 39, 30, 59]\n"
     ]
    }
   ],
   "source": [
    "import random \n",
    "data = []\n",
    "\n",
    "for _ in range(10):\n",
    "    random_number = random.randint(20,70)\n",
    "    data.append(random_number)\n",
    "    \n",
    "print(data)"
   ]
  },
  {
   "cell_type": "code",
   "execution_count": 49,
   "id": "23b0aa51-f87d-4cac-8676-00ce06dbef57",
   "metadata": {},
   "outputs": [],
   "source": [
    "# Adding outlier \n",
    "data.append(300)"
   ]
  },
  {
   "cell_type": "code",
   "execution_count": 50,
   "id": "bf944329-b171-4e74-9bd1-c3988862b17d",
   "metadata": {},
   "outputs": [
    {
     "data": {
      "text/plain": [
       "[41, 23, 28, 69, 33, 30, 52, 39, 30, 59, 300]"
      ]
     },
     "execution_count": 50,
     "metadata": {},
     "output_type": "execute_result"
    }
   ],
   "source": [
    "data"
   ]
  },
  {
   "cell_type": "code",
   "execution_count": 51,
   "id": "a3b00fb6-9ebe-4ec8-87cf-790bbaae0034",
   "metadata": {},
   "outputs": [
    {
     "data": {
      "text/plain": [
       "64.0"
      ]
     },
     "execution_count": 51,
     "metadata": {},
     "output_type": "execute_result"
    }
   ],
   "source": [
    "outlier_affect_mean = np.mean(data)\n",
    "outlier_affect_mean"
   ]
  },
  {
   "cell_type": "code",
   "execution_count": 52,
   "id": "724c8eae-7453-4c90-9b00-517350abaef3",
   "metadata": {},
   "outputs": [
    {
     "data": {
      "text/plain": [
       "300"
      ]
     },
     "execution_count": 52,
     "metadata": {},
     "output_type": "execute_result"
    }
   ],
   "source": [
    "data.pop()"
   ]
  },
  {
   "cell_type": "code",
   "execution_count": 53,
   "id": "aba7eb59-c8a9-430e-9742-877706a182c1",
   "metadata": {},
   "outputs": [
    {
     "data": {
      "text/plain": [
       "40.4"
      ]
     },
     "execution_count": 53,
     "metadata": {},
     "output_type": "execute_result"
    }
   ],
   "source": [
    "np.mean(data)"
   ]
  },
  {
   "cell_type": "code",
   "execution_count": 54,
   "id": "d1f6c5f9-941d-40fb-906d-0fae4faaa328",
   "metadata": {},
   "outputs": [
    {
     "data": {
      "text/plain": [
       "[41, 23, 28, 69, 33, 30, 52, 39, 30, 59]"
      ]
     },
     "execution_count": 54,
     "metadata": {},
     "output_type": "execute_result"
    }
   ],
   "source": [
    "data"
   ]
  },
  {
   "cell_type": "code",
   "execution_count": 55,
   "id": "8d815c4e-7453-4325-8f5f-1dbb1a00e504",
   "metadata": {},
   "outputs": [
    {
     "data": {
      "text/plain": [
       "36.0"
      ]
     },
     "execution_count": 55,
     "metadata": {},
     "output_type": "execute_result"
    }
   ],
   "source": [
    "np.median(data)"
   ]
  },
  {
   "cell_type": "code",
   "execution_count": 56,
   "id": "16578a31-3880-450b-af2e-eead3221a0cc",
   "metadata": {},
   "outputs": [
    {
     "data": {
      "text/plain": [
       "[41, 23, 28, 69, 33, 30, 52, 39, 30, 59, 300]"
      ]
     },
     "execution_count": 56,
     "metadata": {},
     "output_type": "execute_result"
    }
   ],
   "source": [
    "data.append(300)\n",
    "data"
   ]
  },
  {
   "cell_type": "code",
   "execution_count": 57,
   "id": "f5629aa2-76e9-4afc-b359-3fff4c6fe09e",
   "metadata": {},
   "outputs": [
    {
     "data": {
      "text/plain": [
       "300"
      ]
     },
     "execution_count": 57,
     "metadata": {},
     "output_type": "execute_result"
    }
   ],
   "source": [
    "data.pop()"
   ]
  },
  {
   "cell_type": "code",
   "execution_count": 58,
   "id": "5d4f9c75-f078-4375-b9eb-b2b31add6e17",
   "metadata": {},
   "outputs": [
    {
     "data": {
      "text/plain": [
       "36.0"
      ]
     },
     "execution_count": 58,
     "metadata": {},
     "output_type": "execute_result"
    }
   ],
   "source": [
    "np.median(data) # Median does not affect to much due to outliers "
   ]
  },
  {
   "cell_type": "code",
   "execution_count": 59,
   "id": "25b5f043-a886-4391-8788-6c39499c461b",
   "metadata": {},
   "outputs": [
    {
     "data": {
      "text/plain": [
       "<Axes: >"
      ]
     },
     "execution_count": 59,
     "metadata": {},
     "output_type": "execute_result"
    },
    {
     "data": {
      "image/png": "[encoded data removed]",
      "text/plain": [
       "<Figure size 640x480 with 1 Axes>"
      ]
     },
     "metadata": {},
     "output_type": "display_data"
    }
   ],
   "source": [
    "# Box Plot \n",
    "import seaborn as sns\n",
    "sns.boxplot(data)"
   ]
  },
  {
   "cell_type": "code",
   "execution_count": 60,
   "id": "07b64af1-0580-48b5-9219-13eb9e7a2b3e",
   "metadata": {},
   "outputs": [
    {
     "data": {
      "text/plain": [
       "<Axes: >"
      ]
     },
     "execution_count": 60,
     "metadata": {},
     "output_type": "execute_result"
    },
    {
     "data": {
      "image/png": "[encoded data removed]",
      "text/plain": [
       "<Figure size 640x480 with 1 Axes>"
      ]
     },
     "metadata": {},
     "output_type": "display_data"
    }
   ],
   "source": [
    "data= pd.read_csv(\"iris.csv\")\n",
    "sns.boxplot(data['sepal length'])"
   ]
  },
  {
   "cell_type": "code",
   "execution_count": 61,
   "id": "d382cf79-243e-4460-b414-0d35da16328d",
   "metadata": {},
   "outputs": [
    {
     "data": {
      "text/plain": [
       "Index(['sepal length', 'sepal width', 'petal length', 'petal width', 'class'], dtype='object')"
      ]
     },
     "execution_count": 61,
     "metadata": {},
     "output_type": "execute_result"
    }
   ],
   "source": [
    "data.columns"
   ]
  },
  {
   "cell_type": "code",
   "execution_count": 62,
   "id": "8def69c7-b77e-40fd-beae-05131c024325",
   "metadata": {},
   "outputs": [
    {
     "data": {
      "text/plain": [
       "<Axes: >"
      ]
     },
     "execution_count": 62,
     "metadata": {},
     "output_type": "execute_result"
    },
    {
     "data": {
      "image/png": "[encoded data removed]",
      "text/plain": [
       "<Figure size 640x480 with 1 Axes>"
      ]
     },
     "metadata": {},
     "output_type": "display_data"
    }
   ],
   "source": [
    "sns.boxplot(data['sepal width']) # Outlier "
   ]
  },
  {
   "cell_type": "code",
   "execution_count": 63,
   "id": "9e2dbef4-b8b2-4ee2-ab01-7e91a41e21f7",
   "metadata": {},
   "outputs": [
    {
     "data": {
      "text/plain": [
       "<Axes: xlabel='sepal width', ylabel='Count'>"
      ]
     },
     "execution_count": 63,
     "metadata": {},
     "output_type": "execute_result"
    },
    {
     "data": {
      "image/png": "[encoded data removed]",
      "text/plain": [
       "<Figure size 640x480 with 1 Axes>"
      ]
     },
     "metadata": {},
     "output_type": "display_data"
    }
   ],
   "source": [
    "sns.histplot(data['sepal width'], kde=True) "
   ]
  },
  {
   "cell_type": "code",
   "execution_count": 64,
   "id": "8e5fd54c-a044-4f3f-9fa4-e21bb775869c",
   "metadata": {},
   "outputs": [
    {
     "name": "stderr",
     "output_type": "stream",
     "text": [
      "C:\\Users\\bhimr\\AppData\\Local\\Temp\\ipykernel_46044\\2807069256.py:1: FutureWarning: \n",
      "\n",
      "`shade` is now deprecated in favor of `fill`; setting `fill=True`.\n",
      "This will become an error in seaborn v0.14.0; please update your code.\n",
      "\n",
      "  sns.kdeplot(data['sepal width'], shade=True)\n"
     ]
    },
    {
     "data": {
      "text/plain": [
       "<Axes: xlabel='sepal width', ylabel='Density'>"
      ]
     },
     "execution_count": 64,
     "metadata": {},
     "output_type": "execute_result"
    },
    {
     "data": {
      "image/png": "[encoded data removed]",
      "text/plain": [
       "<Figure size 640x480 with 1 Axes>"
      ]
     },
     "metadata": {},
     "output_type": "display_data"
    }
   ],
   "source": [
    "sns.kdeplot(data['sepal width'], shade=True)"
   ]
  },
  {
   "cell_type": "code",
   "execution_count": 65,
   "id": "b36c0804-7c25-4a97-a780-9195ce9059bc",
   "metadata": {},
   "outputs": [
    {
     "data": {
      "text/plain": [
       "<Axes: xlabel='sepal width', ylabel='Count'>"
      ]
     },
     "execution_count": 65,
     "metadata": {},
     "output_type": "execute_result"
    },
    {
     "data": {
      "image/png": "[encoded data removed]",
      "text/plain": [
       "<Figure size 640x480 with 1 Axes>"
      ]
     },
     "metadata": {},
     "output_type": "display_data"
    }
   ],
   "source": [
    "sns.histplot(data['sepal width'])"
   ]
  },
  {
   "cell_type": "code",
   "execution_count": 66,
   "id": "955fa577-d96f-458c-8be3-85784b8c9416",
   "metadata": {},
   "outputs": [
    {
     "data": {
      "text/plain": [
       "<Axes: ylabel='Count'>"
      ]
     },
     "execution_count": 66,
     "metadata": {},
     "output_type": "execute_result"
    },
    {
     "data": {
      "image/png": "[encoded data removed]",
      "text/plain": [
       "<Figure size 640x480 with 1 Axes>"
      ]
     },
     "metadata": {},
     "output_type": "display_data"
    }
   ],
   "source": [
    "# Genrate log distribution data  (log normal distribution and right skewed)\n",
    "mu=3.0\n",
    "sigma=1\n",
    "log_dist=np.random.lognormal(mu,sigma,1000)\n",
    "sns.histplot(log_dist,kde=True)"
   ]
  },
  {
   "cell_type": "code",
   "execution_count": 67,
   "id": "6b38d5b9-40ea-4d30-aeed-7d6eb15d5843",
   "metadata": {},
   "outputs": [
    {
     "name": "stderr",
     "output_type": "stream",
     "text": [
      "C:\\Users\\bhimr\\AppData\\Local\\Temp\\ipykernel_46044\\1165368978.py:2: UserWarning: \n",
      "\n",
      "`distplot` is a deprecated function and will be removed in seaborn v0.14.0.\n",
      "\n",
      "Please adapt your code to use either `displot` (a figure-level function with\n",
      "similar flexibility) or `histplot` (an axes-level function for histograms).\n",
      "\n",
      "For a guide to updating your code to use the new functions, please see\n",
      "https://gist.github.com/mwaskom/de44147ed2974457ad6372750bbe5751\n",
      "\n",
      "  sns.distplot(normal_log,kde=True)\n"
     ]
    },
    {
     "data": {
      "text/plain": [
       "<Axes: ylabel='Density'>"
      ]
     },
     "execution_count": 67,
     "metadata": {},
     "output_type": "execute_result"
    },
    {
     "data": {
      "image/png": "[encoded data removed]",
      "text/plain": [
       "<Figure size 640x480 with 1 Axes>"
      ]
     },
     "metadata": {},
     "output_type": "display_data"
    }
   ],
   "source": [
    "normal_log=np.log(log_dist)  # log data converted into normal data \n",
    "sns.distplot(normal_log,kde=True)"
   ]
  },
  {
   "cell_type": "code",
   "execution_count": 68,
   "id": "f6da1d74-12a8-49a6-9b1f-942714b911b8",
   "metadata": {},
   "outputs": [],
   "source": [
    "# Q-Q Plot : Quantile Quntile plot  to checking (theritical vs parcticle observations)\n",
    "import scipy.stats as stat\n",
    "import matplotlib.pyplot as plt\n",
    "import seaborn as sns\n",
    "import pylab\n",
    "\n",
    "def plot_data(sample, color='cyan'):\n",
    "    plt.figure(figsize=(10, 6))\n",
    "    plt.subplot(1, 2, 1)\n",
    "    sns.histplot(sample, kde=True, color=color)\n",
    "    plt.subplot(1, 2, 2)\n",
    "    stat.probplot(sample, dist='norm', plot=pylab)\n",
    "    plt.show()"
   ]
  },
  {
   "cell_type": "code",
   "execution_count": 69,
   "id": "dbf20a83-97e5-4c99-a6df-a5cb1662089f",
   "metadata": {},
   "outputs": [
    {
     "data": {
      "image/png": "[encoded data removed]",
      "text/plain": [
       "<Figure size 1000x600 with 2 Axes>"
      ]
     },
     "metadata": {},
     "output_type": "display_data"
    }
   ],
   "source": [
    "plot_data(log_dist)"
   ]
  },
  {
   "cell_type": "code",
   "execution_count": 70,
   "id": "27f64ac4-4047-48bb-bce3-2bf945978a5e",
   "metadata": {},
   "outputs": [
    {
     "data": {
      "image/png": "[encoded data removed]",
      "text/plain": [
       "<Figure size 1000x600 with 2 Axes>"
      ]
     },
     "metadata": {},
     "output_type": "display_data"
    }
   ],
   "source": [
    "# Assuming you have a sample named 'normal_log'\n",
    "plot_data(normal_log, color='green')"
   ]
  },
  {
   "cell_type": "markdown",
   "id": "5a89e2bb-65e0-4f63-b87b-80d702291fcd",
   "metadata": {},
   "source": [
    "### Probability Distribution function\n",
    "**probability mass function (Discreate probability Distribution)** \n",
    "\n",
    "- Uniform\n",
    "- Bernoli\n",
    "- Binomial\n",
    "- possion\n",
    "  \n",
    "**Probability density Function ( Continues Probability Distribution )**\n",
    "\n",
    "- Uniform\n",
    "- Normal (SND)\n",
    "- Lognormal\n",
    "- Power law\n",
    "- pareto"
   ]
  },
  {
   "cell_type": "code",
   "execution_count": 71,
   "id": "fe85fade-976a-420a-af7f-9938d14e4c94",
   "metadata": {},
   "outputs": [
    {
     "name": "stderr",
     "output_type": "stream",
     "text": [
      "C:\\Users\\bhimr\\AppData\\Local\\Temp\\ipykernel_46044\\3125044898.py:2: UserWarning: \n",
      "\n",
      "`distplot` is a deprecated function and will be removed in seaborn v0.14.0.\n",
      "\n",
      "Please adapt your code to use either `displot` (a figure-level function with\n",
      "similar flexibility) or `histplot` (an axes-level function for histograms).\n",
      "\n",
      "For a guide to updating your code to use the new functions, please see\n",
      "https://gist.github.com/mwaskom/de44147ed2974457ad6372750bbe5751\n",
      "\n",
      "  sns.distplot(random.uniform(size=500))\n"
     ]
    },
    {
     "data": {
      "text/plain": [
       "<Axes: ylabel='Density'>"
      ]
     },
     "execution_count": 71,
     "metadata": {},
     "output_type": "execute_result"
    },
    {
     "data": {
      "image/png": "[encoded data removed]",
      "text/plain": [
       "<Figure size 640x480 with 1 Axes>"
      ]
     },
     "metadata": {},
     "output_type": "display_data"
    }
   ],
   "source": [
    "from numpy import random\n",
    "sns.distplot(random.uniform(size=500))"
   ]
  },
  {
   "cell_type": "code",
   "execution_count": 72,
   "id": "2fd48c29-9c11-4642-adbd-00a3d9fd3b59",
   "metadata": {},
   "outputs": [
    {
     "name": "stderr",
     "output_type": "stream",
     "text": [
      "C:\\Users\\bhimr\\AppData\\Local\\Temp\\ipykernel_46044\\3091810118.py:1: UserWarning: \n",
      "\n",
      "`distplot` is a deprecated function and will be removed in seaborn v0.14.0.\n",
      "\n",
      "Please adapt your code to use either `displot` (a figure-level function with\n",
      "similar flexibility) or `kdeplot` (an axes-level function for kernel density plots).\n",
      "\n",
      "For a guide to updating your code to use the new functions, please see\n",
      "https://gist.github.com/mwaskom/de44147ed2974457ad6372750bbe5751\n",
      "\n",
      "  sns.distplot(random.uniform(size=500),hist=False) # continious variable\n"
     ]
    },
    {
     "data": {
      "text/plain": [
       "<Axes: ylabel='Density'>"
      ]
     },
     "execution_count": 72,
     "metadata": {},
     "output_type": "execute_result"
    },
    {
     "data": {
      "image/png": "[encoded data removed]",
      "text/plain": [
       "<Figure size 640x480 with 1 Axes>"
      ]
     },
     "metadata": {},
     "output_type": "display_data"
    }
   ],
   "source": [
    "sns.distplot(random.uniform(size=500),hist=False) # continious variable "
   ]
  },
  {
   "cell_type": "code",
   "execution_count": 73,
   "id": "24613bc2-af47-4159-814c-bcc38d361179",
   "metadata": {},
   "outputs": [
    {
     "data": {
      "text/plain": [
       "array([1, 6, 4, 4, 4, 7, 4, 2, 6, 7, 1, 6, 5, 7, 3, 1, 2, 5, 5, 2, 7, 4,\n",
       "       4, 3, 4, 7, 3, 1, 4, 2, 4, 3, 7, 4, 5, 5, 2, 5, 5, 2, 7, 4, 6, 7,\n",
       "       2, 5, 7, 4, 3, 5, 3, 7, 6, 6, 6, 4, 5, 3, 7, 1, 6, 7, 6, 2, 2, 3,\n",
       "       7, 7, 3, 6, 1, 7, 4, 7, 4, 6, 6, 5, 2, 2, 2, 4, 7, 3, 4, 5, 6, 3,\n",
       "       5, 4, 4, 6, 7, 5, 4, 5, 3, 5, 4, 1, 6, 6, 6, 3, 3, 6, 5, 5, 6, 6,\n",
       "       2, 2, 2, 1, 5, 1, 5, 3, 1, 4, 2, 5, 6, 1, 2, 2, 6, 5, 4, 1, 5, 3,\n",
       "       5, 6, 7, 5, 5, 4, 3, 2, 7, 3, 4, 7, 2, 7, 7, 2, 6, 1, 6, 5, 4, 2,\n",
       "       1, 4, 1, 3, 3, 3, 4, 7, 6, 5, 4, 2, 6, 7, 4, 1, 7, 1, 1, 1, 5, 2,\n",
       "       7, 3, 6, 5, 1, 7, 1, 2, 7, 7, 3, 3, 5, 2, 3, 3, 5, 1, 6, 5, 2, 7,\n",
       "       7, 6, 5, 2, 5, 5, 6, 6, 4, 5, 5, 5, 5, 6, 3, 2, 3, 2, 4, 3, 1, 3,\n",
       "       1, 3, 1, 6, 5, 3, 3, 7, 2, 3, 2, 7, 3, 2, 5, 2, 2, 7, 3, 1, 1, 2,\n",
       "       2, 1, 3, 6, 1, 3, 6, 3, 2, 1, 6, 6, 1, 6, 5, 3, 2, 2, 5, 6, 5, 2,\n",
       "       2, 7, 5, 6, 4, 4, 1, 2, 2, 5, 5, 5, 2, 5, 2, 6, 4, 6, 7, 5, 2, 5,\n",
       "       2, 3, 2, 3, 5, 3, 1, 1, 7, 4, 6, 1, 4, 3, 7, 2, 3, 1, 2, 2, 1, 3,\n",
       "       6, 1, 3, 6, 6, 4, 4, 2, 3, 1, 4, 2, 1, 7, 6, 5, 3, 7, 3, 5, 5, 3,\n",
       "       2, 5, 5, 3, 6, 7, 4, 4, 5, 5, 5, 2, 3, 2, 4, 6, 2, 4, 5, 7, 2, 2,\n",
       "       5, 5, 5, 5, 5, 4, 3, 1, 7, 2, 5, 3, 2, 5, 1, 5, 2, 5, 2, 3, 3, 2,\n",
       "       6, 6, 4, 4, 4, 3, 2, 4, 5, 6, 2, 7, 2, 5, 6, 1, 4, 1, 3, 1, 5, 1,\n",
       "       3, 1, 5, 3, 4, 5, 7, 6, 3, 2, 6, 2, 6, 1, 5, 6, 5, 1, 5, 1, 7, 1,\n",
       "       5, 3, 5, 2, 5, 1, 6, 4, 7, 5, 4, 5, 3, 7, 4, 4, 6, 6, 2, 6, 2, 1,\n",
       "       1, 6, 5, 7, 3, 4, 6, 2, 6, 2, 3, 5, 4, 2, 6, 4, 4, 2, 4, 3, 1, 6,\n",
       "       6, 5, 4, 7, 7, 3, 3, 5, 2, 2, 1, 7, 5, 4, 2, 7, 7, 4, 7, 3, 3, 4,\n",
       "       1, 4, 3, 4, 7, 4, 4, 1, 4, 5, 4, 5, 3, 3, 2, 7, 5, 4, 4, 4, 6, 5,\n",
       "       6, 2, 7, 7, 2, 4, 1, 4, 2, 5, 3, 6, 5, 5, 7, 6, 1, 2, 6, 6, 1, 1,\n",
       "       5, 6, 3, 7, 1, 1, 7, 6, 3, 5, 7, 5, 4, 1, 2, 3, 6, 6, 2, 4, 6, 2,\n",
       "       7, 6, 7, 2, 6, 2, 1, 4, 5, 3, 1, 2, 6, 4, 1, 3, 3, 3, 2, 7, 1, 4,\n",
       "       1, 5, 5, 2, 3, 4, 5, 3, 2, 6, 6, 4, 5, 2, 5, 2, 2, 3, 4, 2, 3, 3,\n",
       "       1, 7, 3, 2, 5, 3, 7, 5, 1, 2, 2, 2, 7, 6, 4, 3, 4, 6, 7, 7, 6, 7,\n",
       "       6, 5, 6, 4, 6, 7, 5, 3, 5, 5, 5, 7, 4, 1, 6, 2, 4, 7, 4, 4, 6, 3,\n",
       "       6, 6, 6, 5, 3, 2, 2, 4, 1, 2, 1, 6, 1, 4, 2, 2, 5, 1, 5, 2, 7, 4,\n",
       "       5, 1, 4, 5, 7, 1, 5, 3, 3, 6, 3, 4, 7, 7, 3, 4, 1, 6, 5, 6, 6, 7,\n",
       "       4, 2, 7, 7, 4, 6, 7, 3, 2, 4, 6, 5, 7, 4, 2, 6, 2, 2, 7, 7, 5, 5,\n",
       "       5, 1, 5, 6, 3, 1, 5, 6, 5, 2, 7, 2, 5, 3, 6, 5, 5, 6, 2, 6, 7, 4,\n",
       "       3, 4, 5, 1, 1, 3, 7, 4, 4, 2, 7, 4, 2, 4, 5, 6, 6, 3, 1, 2, 6, 4,\n",
       "       5, 3, 2, 6, 6, 6, 4, 5, 4, 6, 6, 2, 3, 5, 6, 4, 6, 5, 7, 7, 3, 7,\n",
       "       3, 4, 5, 7, 1, 7, 4, 1, 5, 6, 2, 7, 7, 6, 7, 6, 7, 5, 4, 4, 5, 5,\n",
       "       1, 3, 3, 4, 3, 2, 1, 2, 6, 6, 7, 1, 5, 4, 4, 3, 2, 1, 1, 4, 1, 4,\n",
       "       5, 2, 7, 6, 1, 3, 1, 5, 7, 5, 1, 3, 1, 4, 4, 3, 7, 2, 3, 7, 3, 6,\n",
       "       3, 5, 7, 2, 2, 5, 5, 3, 7, 2, 2, 7, 5, 2, 5, 5, 1, 5, 3, 7, 1, 2,\n",
       "       2, 3, 6, 5, 3, 3, 1, 4, 3, 5, 1, 4, 6, 2, 1, 6, 2, 7, 4, 5, 7, 3,\n",
       "       2, 1, 2, 5, 6, 5, 4, 7, 6, 6, 7, 2, 1, 3, 4, 5, 6, 7, 5, 7, 1, 1,\n",
       "       2, 1, 1, 3, 2, 1, 6, 4, 2, 7, 6, 3, 3, 3, 6, 2, 4, 1, 6, 3, 1, 3,\n",
       "       7, 5, 3, 2, 6, 6, 1, 4, 1, 2, 3, 1, 6, 6, 1, 7, 4, 2, 3, 4, 5, 2,\n",
       "       1, 6, 3, 7, 3, 6, 4, 4, 1, 4, 5, 7, 5, 4, 7, 2, 7, 1, 6, 3, 7, 2,\n",
       "       1, 4, 1, 6, 4, 5, 6, 1, 5, 7, 3, 1, 4, 4, 4, 4, 3, 2, 6, 5, 5, 1,\n",
       "       1, 1, 7, 7, 6, 2, 3, 5, 3, 5])"
      ]
     },
     "execution_count": 73,
     "metadata": {},
     "output_type": "execute_result"
    }
   ],
   "source": [
    "np.random.randint(1,8,size=1000)  # Descrite variable "
   ]
  },
  {
   "cell_type": "code",
   "execution_count": 74,
   "id": "56938713-1389-46bc-959c-104adb98c084",
   "metadata": {},
   "outputs": [
    {
     "data": {
      "text/plain": [
       "<Axes: ylabel='Count'>"
      ]
     },
     "execution_count": 74,
     "metadata": {},
     "output_type": "execute_result"
    },
    {
     "data": {
      "image/png": "[encoded data removed]",
      "text/plain": [
       "<Figure size 640x480 with 1 Axes>"
      ]
     },
     "metadata": {},
     "output_type": "display_data"
    }
   ],
   "source": [
    "sns.histplot(np.random.randint(1,8,size=10000)) # count of data "
   ]
  },
  {
   "cell_type": "code",
   "execution_count": 75,
   "id": "1a66dccc-70be-4b0e-92b6-e8da0f9992a6",
   "metadata": {},
   "outputs": [
    {
     "data": {
      "text/plain": [
       "<Axes: ylabel='Count'>"
      ]
     },
     "execution_count": 75,
     "metadata": {},
     "output_type": "execute_result"
    },
    {
     "data": {
      "image/png": "[encoded data removed]",
      "text/plain": [
       "<Figure size 640x480 with 1 Axes>"
      ]
     },
     "metadata": {},
     "output_type": "display_data"
    }
   ],
   "source": [
    "# Bernouli distributions \n",
    "p=0.3\n",
    "sample_size=10000\n",
    "bernouli_data=np.random.choice([0,1],size=sample_size,p=[1-p,p])\n",
    "sns.histplot(bernouli_data,bins=2,kde=False,color='green')"
   ]
  },
  {
   "cell_type": "code",
   "execution_count": 76,
   "id": "598ab515-5dd6-49f8-9ed7-b3c96f3d18f2",
   "metadata": {},
   "outputs": [],
   "source": [
    "# Bionimal Distribution\n",
    "no_of_trials=10\n",
    "probability=0.6\n",
    "\n",
    "data4=np.random.binomial(no_of_trials,probability,10000)"
   ]
  },
  {
   "cell_type": "code",
   "execution_count": 77,
   "id": "f61b1627-7349-44ca-917a-a7a97d51397b",
   "metadata": {},
   "outputs": [
    {
     "name": "stderr",
     "output_type": "stream",
     "text": [
      "C:\\Users\\bhimr\\AppData\\Local\\Temp\\ipykernel_46044\\2774449309.py:1: UserWarning: \n",
      "\n",
      "`distplot` is a deprecated function and will be removed in seaborn v0.14.0.\n",
      "\n",
      "Please adapt your code to use either `displot` (a figure-level function with\n",
      "similar flexibility) or `histplot` (an axes-level function for histograms).\n",
      "\n",
      "For a guide to updating your code to use the new functions, please see\n",
      "https://gist.github.com/mwaskom/de44147ed2974457ad6372750bbe5751\n",
      "\n",
      "  sns.distplot(data4)\n"
     ]
    },
    {
     "data": {
      "text/plain": [
       "<Axes: ylabel='Density'>"
      ]
     },
     "execution_count": 77,
     "metadata": {},
     "output_type": "execute_result"
    },
    {
     "data": {
      "image/png": "[encoded data removed]",
      "text/plain": [
       "<Figure size 640x480 with 1 Axes>"
      ]
     },
     "metadata": {},
     "output_type": "display_data"
    }
   ],
   "source": [
    "sns.distplot(data4)"
   ]
  },
  {
   "cell_type": "code",
   "execution_count": 78,
   "id": "a9ee2ef7-bb38-4ab7-98ce-aad74afa3b2e",
   "metadata": {},
   "outputs": [
    {
     "name": "stderr",
     "output_type": "stream",
     "text": [
      "C:\\Users\\bhimr\\AppData\\Local\\Temp\\ipykernel_46044\\4160434541.py:4: UserWarning: \n",
      "\n",
      "`distplot` is a deprecated function and will be removed in seaborn v0.14.0.\n",
      "\n",
      "Please adapt your code to use either `displot` (a figure-level function with\n",
      "similar flexibility) or `histplot` (an axes-level function for histograms).\n",
      "\n",
      "For a guide to updating your code to use the new functions, please see\n",
      "https://gist.github.com/mwaskom/de44147ed2974457ad6372750bbe5751\n",
      "\n",
      "  ax = sns.distplot(poisson_data, kde=False, color='red')\n"
     ]
    },
    {
     "data": {
      "image/png": "[encoded data removed]",
      "text/plain": [
       "<Figure size 640x480 with 1 Axes>"
      ]
     },
     "metadata": {},
     "output_type": "display_data"
    }
   ],
   "source": [
    "poisson_data = np.random.poisson(lam=5, size=10000)\n",
    "\n",
    "# Plotting the histogram\n",
    "ax = sns.distplot(poisson_data, kde=False, color='red')\n",
    "ax.set(xlabel='Poisson Distribution', ylabel='Frequency')\n",
    "plt.show()"
   ]
  },
  {
   "cell_type": "markdown",
   "id": "b7408cf8-18bb-464e-a630-582eb407bf82",
   "metadata": {},
   "source": [
    "# Central limit Theorem\n",
    "- The Central Limit Theorem (CLT) is a fundamental theorem in probability theory and statistics.\n",
    "- \n",
    "It states that the distribution of the sum (or average) of a large number of independent, identically distributed random variables approaches a     normal distribution, regardless of the shape of the original distribution."
   ]
  },
  {
   "cell_type": "code",
   "execution_count": 79,
   "id": "ba245b04-dd5a-4a20-b85d-71e51d1be725",
   "metadata": {},
   "outputs": [],
   "source": [
    "population = np.random.randint(10,20,50)"
   ]
  },
  {
   "cell_type": "code",
   "execution_count": 80,
   "id": "0647e13c-273c-4f5e-8c27-f4ff20bcad1b",
   "metadata": {},
   "outputs": [
    {
     "data": {
      "text/plain": [
       "array([11, 12, 16, 12, 18, 15, 14, 17, 12, 16, 13, 15, 15, 14, 17, 12, 19,\n",
       "       19, 12, 19, 13, 12, 18, 18, 18, 11, 18, 14, 17, 19, 15, 16, 13, 13,\n",
       "       19, 18, 16, 15, 16, 14, 11, 15, 16, 12, 19, 11, 10, 19, 11, 11])"
      ]
     },
     "execution_count": 80,
     "metadata": {},
     "output_type": "execute_result"
    }
   ],
   "source": [
    "population"
   ]
  },
  {
   "cell_type": "code",
   "execution_count": 81,
   "id": "eed60a4e-917a-4aad-bc55-0293701f3933",
   "metadata": {},
   "outputs": [
    {
     "data": {
      "text/plain": [
       "14.92"
      ]
     },
     "execution_count": 81,
     "metadata": {},
     "output_type": "execute_result"
    }
   ],
   "source": [
    "np.mean(population)"
   ]
  },
  {
   "cell_type": "code",
   "execution_count": 82,
   "id": "b40b1f41-281c-48e4-9846-d519084ee1d1",
   "metadata": {},
   "outputs": [
    {
     "data": {
      "text/plain": [
       "15.0"
      ]
     },
     "execution_count": 82,
     "metadata": {},
     "output_type": "execute_result"
    }
   ],
   "source": [
    "np.median(population)"
   ]
  },
  {
   "cell_type": "code",
   "execution_count": 83,
   "id": "0ee5228f-d019-4ef6-bd95-8020f1130158",
   "metadata": {},
   "outputs": [
    {
     "data": {
      "text/plain": [
       "12"
      ]
     },
     "execution_count": 83,
     "metadata": {},
     "output_type": "execute_result"
    }
   ],
   "source": [
    "from statistics import mode\n",
    "mode(population)"
   ]
  },
  {
   "cell_type": "code",
   "execution_count": 84,
   "id": "fcac6b0e-48eb-477b-8b15-56f5fea3d84f",
   "metadata": {},
   "outputs": [
    {
     "name": "stdout",
     "output_type": "stream",
     "text": [
      "Mean of the sample  : 14.45\n",
      "Median of the sample: 14.5\n",
      "Mode of the sample  : 12\n"
     ]
    }
   ],
   "source": [
    "# random sample from population\n",
    "sample=np.random.choice(population,20)\n",
    "\n",
    "print(f\"Mean of the sample  : {np.mean(sample)}\")\n",
    "print(f\"Median of the sample: {np.median(sample)}\")\n",
    "print(f\"Mode of the sample  : {mode(sample)}\")"
   ]
  },
  {
   "cell_type": "code",
   "execution_count": 85,
   "id": "7a526fd5-7e6e-42cb-9a7e-6fb4050fbc18",
   "metadata": {},
   "outputs": [],
   "source": [
    "sample1 = np.random.choice(population,20)\n",
    "sample2 = np.random.choice(population,20)\n",
    "sample3 = np.random.choice(population,20)\n",
    "sample4 = np.random.choice(population,20)"
   ]
  },
  {
   "cell_type": "code",
   "execution_count": 86,
   "id": "414a42ca-db65-4c61-ba33-7d8323fd02a0",
   "metadata": {},
   "outputs": [
    {
     "name": "stdout",
     "output_type": "stream",
     "text": [
      "[13 18 11 11 16 11 15 12 15 11 11 18 11 19 19 13 11 13 16 16]\n",
      "[12 14 18 16 15 11 14 12 11 13 12 15 18 14 18 14 15 12 19 19]\n",
      "[11 18 12 11 19 19 18 18 15 19 18 11 16 12 18 19 18 15 16 13]\n",
      "[16 15 18 19 16 18 13 16 18 12 13 16 12 13 15 17 18 11 18 10]\n"
     ]
    }
   ],
   "source": [
    "print(sample1)\n",
    "print(sample2)\n",
    "print(sample3)\n",
    "print(sample4)"
   ]
  },
  {
   "cell_type": "code",
   "execution_count": 87,
   "id": "ea069c3a-c10f-40e1-b32f-38204f60da66",
   "metadata": {},
   "outputs": [
    {
     "name": "stdout",
     "output_type": "stream",
     "text": [
      "14.0\n",
      "14.6\n",
      "15.8\n",
      "15.2\n"
     ]
    }
   ],
   "source": [
    "mean_of_the_sample=[]\n",
    "\n",
    "all_sample = [sample1,sample2,sample3,sample4]\n",
    "\n",
    "for sample in all_sample:\n",
    "    print(np.mean(sample))\n",
    "    mean_of_the_sample.append(np.mean(sample))"
   ]
  },
  {
   "cell_type": "code",
   "execution_count": 88,
   "id": "bc50abe4-00f4-4f45-a775-7f109a1ccb4f",
   "metadata": {},
   "outputs": [
    {
     "data": {
      "text/plain": [
       "[510.4,\n",
       " 575.3666666666667,\n",
       " 460.0,\n",
       " 421.6333333333333,\n",
       " 454.43333333333334,\n",
       " 442.6333333333333,\n",
       " 550.9666666666667,\n",
       " 498.9,\n",
       " 449.53333333333336,\n",
       " 523.5333333333333,\n",
       " 490.53333333333336,\n",
       " 491.46666666666664,\n",
       " 543.1666666666666,\n",
       " 442.26666666666665,\n",
       " 487.6666666666667,\n",
       " 516.5,\n",
       " 483.8666666666667,\n",
       " 497.5,\n",
       " 437.06666666666666,\n",
       " 393.26666666666665,\n",
       " 561.0666666666667,\n",
       " 533.8333333333334,\n",
       " 500.0,\n",
       " 489.06666666666666,\n",
       " 462.96666666666664,\n",
       " 506.9,\n",
       " 453.2,\n",
       " 554.7666666666667,\n",
       " 461.3333333333333,\n",
       " 476.73333333333335]"
      ]
     },
     "execution_count": 88,
     "metadata": {},
     "output_type": "execute_result"
    }
   ],
   "source": [
    "import numpy as np\n",
    "population= 1000\n",
    "size = 30 # Define the sample size here\n",
    "sample_mean = []\n",
    "\n",
    "for i in range(1, 31):\n",
    "    sample = np.random.choice(population, size=size)\n",
    "    sample_mean.append(np.mean(sample))\n",
    "\n",
    "sample_mean"
   ]
  },
  {
   "cell_type": "code",
   "execution_count": 89,
   "id": "55cccf90-fdc8-481e-9dfe-b7440261d9e4",
   "metadata": {},
   "outputs": [
    {
     "name": "stderr",
     "output_type": "stream",
     "text": [
      "C:\\Users\\bhimr\\AppData\\Local\\Temp\\ipykernel_46044\\3871985278.py:1: UserWarning: \n",
      "\n",
      "`distplot` is a deprecated function and will be removed in seaborn v0.14.0.\n",
      "\n",
      "Please adapt your code to use either `displot` (a figure-level function with\n",
      "similar flexibility) or `histplot` (an axes-level function for histograms).\n",
      "\n",
      "For a guide to updating your code to use the new functions, please see\n",
      "https://gist.github.com/mwaskom/de44147ed2974457ad6372750bbe5751\n",
      "\n",
      "  sns.distplot(sample_mean)  # Graph look like normal distribution\n"
     ]
    },
    {
     "data": {
      "text/plain": [
       "<Axes: ylabel='Density'>"
      ]
     },
     "execution_count": 89,
     "metadata": {},
     "output_type": "execute_result"
    },
    {
     "data": {
      "image/png": "[encoded data removed]",
      "text/plain": [
       "<Figure size 640x480 with 1 Axes>"
      ]
     },
     "metadata": {},
     "output_type": "display_data"
    }
   ],
   "source": [
    "sns.distplot(sample_mean)  # Graph look like normal distribution "
   ]
  },
  {
   "cell_type": "markdown",
   "id": "254d7364-1546-4633-b00d-33c2ca6fd4f3",
   "metadata": {},
   "source": [
    "## Statistic's with help of pandas"
   ]
  },
  {
   "cell_type": "code",
   "execution_count": 90,
   "id": "f51ff6bd-ab98-457a-92bc-a6e29b0885c4",
   "metadata": {},
   "outputs": [
    {
     "data": {
      "text/html": [
       "<div>\n",
       "<style scoped>\n",
       "    .dataframe tbody tr th:only-of-type {\n",
       "        vertical-align: middle;\n",
       "    }\n",
       "\n",
       "    .dataframe tbody tr th {\n",
       "        vertical-align: top;\n",
       "    }\n",
       "\n",
       "    .dataframe thead th {\n",
       "        text-align: right;\n",
       "    }\n",
       "</style>\n",
       "<table border=\"1\" class=\"dataframe\">\n",
       "  <thead>\n",
       "    <tr style=\"text-align: right;\">\n",
       "      <th></th>\n",
       "      <th>Name</th>\n",
       "      <th>Gender</th>\n",
       "      <th>DOB</th>\n",
       "      <th>Maths</th>\n",
       "      <th>Physics</th>\n",
       "      <th>Chemistry</th>\n",
       "      <th>English</th>\n",
       "      <th>Biology</th>\n",
       "      <th>Economics</th>\n",
       "      <th>History</th>\n",
       "      <th>Civics</th>\n",
       "    </tr>\n",
       "  </thead>\n",
       "  <tbody>\n",
       "    <tr>\n",
       "      <th>0</th>\n",
       "      <td>John</td>\n",
       "      <td>M</td>\n",
       "      <td>05-04-1988</td>\n",
       "      <td>55</td>\n",
       "      <td>45</td>\n",
       "      <td>56</td>\n",
       "      <td>87</td>\n",
       "      <td>21</td>\n",
       "      <td>52</td>\n",
       "      <td>89</td>\n",
       "      <td>65</td>\n",
       "    </tr>\n",
       "    <tr>\n",
       "      <th>1</th>\n",
       "      <td>Suresh</td>\n",
       "      <td>M</td>\n",
       "      <td>04-05-1987</td>\n",
       "      <td>75</td>\n",
       "      <td>96</td>\n",
       "      <td>78</td>\n",
       "      <td>64</td>\n",
       "      <td>90</td>\n",
       "      <td>61</td>\n",
       "      <td>58</td>\n",
       "      <td>2</td>\n",
       "    </tr>\n",
       "    <tr>\n",
       "      <th>2</th>\n",
       "      <td>Ramesh</td>\n",
       "      <td>M</td>\n",
       "      <td>25-05-1989</td>\n",
       "      <td>25</td>\n",
       "      <td>54</td>\n",
       "      <td>89</td>\n",
       "      <td>76</td>\n",
       "      <td>95</td>\n",
       "      <td>87</td>\n",
       "      <td>56</td>\n",
       "      <td>74</td>\n",
       "    </tr>\n",
       "    <tr>\n",
       "      <th>3</th>\n",
       "      <td>Jessica</td>\n",
       "      <td>F</td>\n",
       "      <td>12-08-1990</td>\n",
       "      <td>78</td>\n",
       "      <td>96</td>\n",
       "      <td>86</td>\n",
       "      <td>63</td>\n",
       "      <td>54</td>\n",
       "      <td>89</td>\n",
       "      <td>75</td>\n",
       "      <td>45</td>\n",
       "    </tr>\n",
       "    <tr>\n",
       "      <th>4</th>\n",
       "      <td>Jennifer</td>\n",
       "      <td>F</td>\n",
       "      <td>02-09-1989</td>\n",
       "      <td>58</td>\n",
       "      <td>96</td>\n",
       "      <td>78</td>\n",
       "      <td>46</td>\n",
       "      <td>96</td>\n",
       "      <td>77</td>\n",
       "      <td>83</td>\n",
       "      <td>53</td>\n",
       "    </tr>\n",
       "  </tbody>\n",
       "</table>\n",
       "</div>"
      ],
      "text/plain": [
       "       Name Gender         DOB  Maths  Physics  Chemistry  English  Biology  \\\n",
       "0      John      M  05-04-1988     55       45         56       87       21   \n",
       "1    Suresh      M  04-05-1987     75       96         78       64       90   \n",
       "2    Ramesh      M  25-05-1989     25       54         89       76       95   \n",
       "3   Jessica      F  12-08-1990     78       96         86       63       54   \n",
       "4  Jennifer      F  02-09-1989     58       96         78       46       96   \n",
       "\n",
       "   Economics  History  Civics  \n",
       "0         52       89      65  \n",
       "1         61       58       2  \n",
       "2         87       56      74  \n",
       "3         89       75      45  \n",
       "4         77       83      53  "
      ]
     },
     "execution_count": 90,
     "metadata": {},
     "output_type": "execute_result"
    }
   ],
   "source": [
    "import pandas as pd \n",
    "df = pd.read_csv('student_marks.csv')\n",
    "df.head()"
   ]
  },
  {
   "cell_type": "code",
   "execution_count": 91,
   "id": "69220fe5-21df-4b69-861e-a1d9763840ad",
   "metadata": {},
   "outputs": [
    {
     "data": {
      "text/plain": [
       "(10, 11)"
      ]
     },
     "execution_count": 91,
     "metadata": {},
     "output_type": "execute_result"
    }
   ],
   "source": [
    "df.shape"
   ]
  },
  {
   "cell_type": "code",
   "execution_count": 92,
   "id": "d7c980f8-ea57-446b-b5fa-5759e91a0876",
   "metadata": {},
   "outputs": [
    {
     "data": {
      "text/plain": [
       "Index(['Name', 'Gender', 'DOB', 'Maths', 'Physics', 'Chemistry', 'English',\n",
       "       'Biology', 'Economics', 'History', 'Civics'],\n",
       "      dtype='object')"
      ]
     },
     "execution_count": 92,
     "metadata": {},
     "output_type": "execute_result"
    }
   ],
   "source": [
    "df.columns"
   ]
  },
  {
   "cell_type": "code",
   "execution_count": 93,
   "id": "e5cadb39-a9cd-4bbd-968a-d831f4a3c7ee",
   "metadata": {},
   "outputs": [
    {
     "data": {
      "text/plain": [
       "59.6"
      ]
     },
     "execution_count": 93,
     "metadata": {},
     "output_type": "execute_result"
    }
   ],
   "source": [
    "df['Maths'].mean()"
   ]
  },
  {
   "cell_type": "code",
   "execution_count": 94,
   "id": "825b6eff-7b90-4e35-a6fd-eb0b388f004f",
   "metadata": {},
   "outputs": [
    {
     "data": {
      "text/plain": [
       "72.3"
      ]
     },
     "execution_count": 94,
     "metadata": {},
     "output_type": "execute_result"
    }
   ],
   "source": [
    "df['Physics'].mean()"
   ]
  },
  {
   "cell_type": "code",
   "execution_count": 95,
   "id": "ca16294e-fcc8-449a-937d-cbc76ed7d0c5",
   "metadata": {},
   "outputs": [
    {
     "data": {
      "text/plain": [
       "75.3"
      ]
     },
     "execution_count": 95,
     "metadata": {},
     "output_type": "execute_result"
    }
   ],
   "source": [
    "df['Chemistry'].mean()"
   ]
  },
  {
   "cell_type": "code",
   "execution_count": 96,
   "id": "bc528518-32b1-4869-bd94-180f48106831",
   "metadata": {},
   "outputs": [
    {
     "data": {
      "text/plain": [
       "55.0"
      ]
     },
     "execution_count": 96,
     "metadata": {},
     "output_type": "execute_result"
    }
   ],
   "source": [
    "df['Maths'].median()"
   ]
  },
  {
   "cell_type": "code",
   "execution_count": 97,
   "id": "e49f2497-367c-4b06-b894-aa7bbd6c77d2",
   "metadata": {},
   "outputs": [
    {
     "data": {
      "text/plain": [
       "70.0"
      ]
     },
     "execution_count": 97,
     "metadata": {},
     "output_type": "execute_result"
    }
   ],
   "source": [
    "df['Physics'].median()"
   ]
  },
  {
   "cell_type": "code",
   "execution_count": 98,
   "id": "57874f19-398a-4499-9ee3-426fa9af769d",
   "metadata": {},
   "outputs": [
    {
     "data": {
      "text/plain": [
       "78.0"
      ]
     },
     "execution_count": 98,
     "metadata": {},
     "output_type": "execute_result"
    }
   ],
   "source": [
    "df['Chemistry'].median()"
   ]
  },
  {
   "cell_type": "code",
   "execution_count": 99,
   "id": "15ab548f-ea9a-45f6-98a7-e26a461d6a5e",
   "metadata": {},
   "outputs": [
    {
     "data": {
      "text/plain": [
       "0    55\n",
       "Name: Maths, dtype: int64"
      ]
     },
     "execution_count": 99,
     "metadata": {},
     "output_type": "execute_result"
    }
   ],
   "source": [
    "df['Maths'].mode()"
   ]
  },
  {
   "cell_type": "code",
   "execution_count": 100,
   "id": "198792c8-1a23-4d03-9452-bc2ab43693f8",
   "metadata": {},
   "outputs": [
    {
     "data": {
      "text/plain": [
       "0    96\n",
       "Name: Physics, dtype: int64"
      ]
     },
     "execution_count": 100,
     "metadata": {},
     "output_type": "execute_result"
    }
   ],
   "source": [
    "df['Physics'].mode()"
   ]
  },
  {
   "cell_type": "code",
   "execution_count": 101,
   "id": "e9a625ab-fc12-4c10-b024-36291529690a",
   "metadata": {},
   "outputs": [
    {
     "data": {
      "text/plain": [
       "0    78\n",
       "1    89\n",
       "Name: Chemistry, dtype: int64"
      ]
     },
     "execution_count": 101,
     "metadata": {},
     "output_type": "execute_result"
    }
   ],
   "source": [
    "df['Chemistry'].mode()"
   ]
  },
  {
   "cell_type": "code",
   "execution_count": 102,
   "id": "3e58c648-a29e-4d9c-9351-088e030ded1c",
   "metadata": {},
   "outputs": [
    {
     "data": {
      "text/plain": [
       "10"
      ]
     },
     "execution_count": 102,
     "metadata": {},
     "output_type": "execute_result"
    }
   ],
   "source": [
    "df['Maths'].count()"
   ]
  },
  {
   "cell_type": "code",
   "execution_count": 103,
   "id": "7d24dd7b-3d32-4a9d-860a-1b417c9efd1e",
   "metadata": {},
   "outputs": [
    {
     "data": {
      "text/plain": [
       "378.71"
      ]
     },
     "execution_count": 103,
     "metadata": {},
     "output_type": "execute_result"
    }
   ],
   "source": [
    "round(df['Maths'].var(),2)"
   ]
  },
  {
   "cell_type": "code",
   "execution_count": 104,
   "id": "2ec5ae1a-438e-416e-914f-a34a68041bdf",
   "metadata": {},
   "outputs": [
    {
     "data": {
      "text/plain": [
       "426.9"
      ]
     },
     "execution_count": 104,
     "metadata": {},
     "output_type": "execute_result"
    }
   ],
   "source": [
    "round(df['Physics'].var(),2)"
   ]
  },
  {
   "cell_type": "code",
   "execution_count": 105,
   "id": "d69a94a0-5206-403d-b471-c1e7521d453e",
   "metadata": {},
   "outputs": [
    {
     "data": {
      "text/plain": [
       "196.01"
      ]
     },
     "execution_count": 105,
     "metadata": {},
     "output_type": "execute_result"
    }
   ],
   "source": [
    "round(df['Chemistry'].var(),2)"
   ]
  },
  {
   "cell_type": "code",
   "execution_count": 106,
   "id": "cae3b01a-9cba-43a2-bb34-934dff29b7be",
   "metadata": {},
   "outputs": [
    {
     "data": {
      "text/plain": [
       "19.46"
      ]
     },
     "execution_count": 106,
     "metadata": {},
     "output_type": "execute_result"
    }
   ],
   "source": [
    "round(df['Maths'].std(),2)"
   ]
  },
  {
   "cell_type": "code",
   "execution_count": 107,
   "id": "d4ba4c25-02a9-4929-b792-01d4d3ef76e4",
   "metadata": {},
   "outputs": [
    {
     "data": {
      "text/plain": [
       "20.66"
      ]
     },
     "execution_count": 107,
     "metadata": {},
     "output_type": "execute_result"
    }
   ],
   "source": [
    "round(df['Physics'].std(),2)"
   ]
  },
  {
   "cell_type": "code",
   "execution_count": 108,
   "id": "6d7c590a-3417-4aef-bc2e-3950c4c6ab21",
   "metadata": {},
   "outputs": [
    {
     "data": {
      "text/plain": [
       "14.0"
      ]
     },
     "execution_count": 108,
     "metadata": {},
     "output_type": "execute_result"
    }
   ],
   "source": [
    "round(df['Chemistry'].std(),2)"
   ]
  },
  {
   "cell_type": "code",
   "execution_count": 109,
   "id": "5f0cb3a2-5aeb-4428-9a8c-c3e9c3337d89",
   "metadata": {},
   "outputs": [
    {
     "data": {
      "text/plain": [
       "96"
      ]
     },
     "execution_count": 109,
     "metadata": {},
     "output_type": "execute_result"
    }
   ],
   "source": [
    "df['Maths'].max()"
   ]
  },
  {
   "cell_type": "code",
   "execution_count": 110,
   "id": "3dd01f98-ff0c-4d9e-b1aa-841e934b7c44",
   "metadata": {},
   "outputs": [
    {
     "data": {
      "text/plain": [
       "25"
      ]
     },
     "execution_count": 110,
     "metadata": {},
     "output_type": "execute_result"
    }
   ],
   "source": [
    "df['Maths'].min()"
   ]
  },
  {
   "cell_type": "code",
   "execution_count": 111,
   "id": "780b7ad3-f8b6-45bd-bdf1-212e90b9377e",
   "metadata": {},
   "outputs": [
    {
     "data": {
      "text/plain": [
       "96"
      ]
     },
     "execution_count": 111,
     "metadata": {},
     "output_type": "execute_result"
    }
   ],
   "source": [
    "df['Physics'].max()"
   ]
  },
  {
   "cell_type": "code",
   "execution_count": 112,
   "id": "5b702461-7426-4d3e-877f-11a5d1d4dbda",
   "metadata": {},
   "outputs": [
    {
     "data": {
      "text/plain": [
       "45"
      ]
     },
     "execution_count": 112,
     "metadata": {},
     "output_type": "execute_result"
    }
   ],
   "source": [
    "df['Physics'].min()"
   ]
  },
  {
   "cell_type": "code",
   "execution_count": 113,
   "id": "9e7a3f63-8275-4d5b-adbb-ae35b0ca0a92",
   "metadata": {},
   "outputs": [
    {
     "data": {
      "text/plain": [
       "89"
      ]
     },
     "execution_count": 113,
     "metadata": {},
     "output_type": "execute_result"
    }
   ],
   "source": [
    "df['Chemistry'].max()"
   ]
  },
  {
   "cell_type": "code",
   "execution_count": 114,
   "id": "a342a955-20f0-443a-945d-c50455775861",
   "metadata": {},
   "outputs": [
    {
     "data": {
      "text/plain": [
       "52"
      ]
     },
     "execution_count": 114,
     "metadata": {},
     "output_type": "execute_result"
    }
   ],
   "source": [
    "df['Chemistry'].min()"
   ]
  },
  {
   "cell_type": "code",
   "execution_count": 115,
   "id": "8eefe361-e1b6-4925-986c-028f2877965f",
   "metadata": {},
   "outputs": [
    {
     "data": {
      "text/plain": [
       "54.25"
      ]
     },
     "execution_count": 115,
     "metadata": {},
     "output_type": "execute_result"
    }
   ],
   "source": [
    "Q1  = df['Maths'].quantile(0.25)\n",
    "Q1 "
   ]
  },
  {
   "cell_type": "code",
   "execution_count": 116,
   "id": "d69d5e15-e5f8-4a71-8bde-475ef3c5d78f",
   "metadata": {},
   "outputs": [
    {
     "data": {
      "text/plain": [
       "70.75"
      ]
     },
     "execution_count": 116,
     "metadata": {},
     "output_type": "execute_result"
    }
   ],
   "source": [
    "Q3 = df['Maths'].quantile(0.75)\n",
    "Q3"
   ]
  },
  {
   "cell_type": "code",
   "execution_count": 117,
   "id": "0d1c3753-dbfe-49f9-8222-1b2da43d914e",
   "metadata": {},
   "outputs": [
    {
     "data": {
      "text/html": [
       "<div>\n",
       "<style scoped>\n",
       "    .dataframe tbody tr th:only-of-type {\n",
       "        vertical-align: middle;\n",
       "    }\n",
       "\n",
       "    .dataframe tbody tr th {\n",
       "        vertical-align: top;\n",
       "    }\n",
       "\n",
       "    .dataframe thead th {\n",
       "        text-align: right;\n",
       "    }\n",
       "</style>\n",
       "<table border=\"1\" class=\"dataframe\">\n",
       "  <thead>\n",
       "    <tr style=\"text-align: right;\">\n",
       "      <th></th>\n",
       "      <th>Maths</th>\n",
       "      <th>Physics</th>\n",
       "      <th>Chemistry</th>\n",
       "      <th>English</th>\n",
       "      <th>Biology</th>\n",
       "      <th>Economics</th>\n",
       "      <th>History</th>\n",
       "      <th>Civics</th>\n",
       "    </tr>\n",
       "  </thead>\n",
       "  <tbody>\n",
       "    <tr>\n",
       "      <th>count</th>\n",
       "      <td>10.00</td>\n",
       "      <td>10.00</td>\n",
       "      <td>10.00</td>\n",
       "      <td>10.00</td>\n",
       "      <td>10.00</td>\n",
       "      <td>10.00</td>\n",
       "      <td>10.00</td>\n",
       "      <td>10.00</td>\n",
       "    </tr>\n",
       "    <tr>\n",
       "      <th>mean</th>\n",
       "      <td>59.60</td>\n",
       "      <td>72.30</td>\n",
       "      <td>75.30</td>\n",
       "      <td>69.70</td>\n",
       "      <td>64.70</td>\n",
       "      <td>72.70</td>\n",
       "      <td>69.70</td>\n",
       "      <td>60.50</td>\n",
       "    </tr>\n",
       "    <tr>\n",
       "      <th>std</th>\n",
       "      <td>19.46</td>\n",
       "      <td>20.66</td>\n",
       "      <td>14.00</td>\n",
       "      <td>14.45</td>\n",
       "      <td>27.00</td>\n",
       "      <td>14.63</td>\n",
       "      <td>14.45</td>\n",
       "      <td>25.34</td>\n",
       "    </tr>\n",
       "    <tr>\n",
       "      <th>min</th>\n",
       "      <td>25.00</td>\n",
       "      <td>45.00</td>\n",
       "      <td>52.00</td>\n",
       "      <td>46.00</td>\n",
       "      <td>21.00</td>\n",
       "      <td>52.00</td>\n",
       "      <td>46.00</td>\n",
       "      <td>2.00</td>\n",
       "    </tr>\n",
       "    <tr>\n",
       "      <th>25%</th>\n",
       "      <td>54.25</td>\n",
       "      <td>56.25</td>\n",
       "      <td>65.00</td>\n",
       "      <td>59.25</td>\n",
       "      <td>54.25</td>\n",
       "      <td>58.75</td>\n",
       "      <td>59.25</td>\n",
       "      <td>52.25</td>\n",
       "    </tr>\n",
       "    <tr>\n",
       "      <th>50%</th>\n",
       "      <td>55.00</td>\n",
       "      <td>70.00</td>\n",
       "      <td>78.00</td>\n",
       "      <td>69.50</td>\n",
       "      <td>66.50</td>\n",
       "      <td>76.00</td>\n",
       "      <td>69.50</td>\n",
       "      <td>63.00</td>\n",
       "    </tr>\n",
       "    <tr>\n",
       "      <th>75%</th>\n",
       "      <td>70.75</td>\n",
       "      <td>93.75</td>\n",
       "      <td>86.75</td>\n",
       "      <td>81.25</td>\n",
       "      <td>87.00</td>\n",
       "      <td>86.00</td>\n",
       "      <td>81.25</td>\n",
       "      <td>76.25</td>\n",
       "    </tr>\n",
       "    <tr>\n",
       "      <th>max</th>\n",
       "      <td>96.00</td>\n",
       "      <td>96.00</td>\n",
       "      <td>89.00</td>\n",
       "      <td>89.00</td>\n",
       "      <td>96.00</td>\n",
       "      <td>89.00</td>\n",
       "      <td>89.00</td>\n",
       "      <td>89.00</td>\n",
       "    </tr>\n",
       "  </tbody>\n",
       "</table>\n",
       "</div>"
      ],
      "text/plain": [
       "       Maths  Physics  Chemistry  English  Biology  Economics  History  Civics\n",
       "count  10.00    10.00      10.00    10.00    10.00      10.00    10.00   10.00\n",
       "mean   59.60    72.30      75.30    69.70    64.70      72.70    69.70   60.50\n",
       "std    19.46    20.66      14.00    14.45    27.00      14.63    14.45   25.34\n",
       "min    25.00    45.00      52.00    46.00    21.00      52.00    46.00    2.00\n",
       "25%    54.25    56.25      65.00    59.25    54.25      58.75    59.25   52.25\n",
       "50%    55.00    70.00      78.00    69.50    66.50      76.00    69.50   63.00\n",
       "75%    70.75    93.75      86.75    81.25    87.00      86.00    81.25   76.25\n",
       "max    96.00    96.00      89.00    89.00    96.00      89.00    89.00   89.00"
      ]
     },
     "execution_count": 117,
     "metadata": {},
     "output_type": "execute_result"
    }
   ],
   "source": [
    "### All summary in one command \n",
    "round(df.describe(),2)"
   ]
  },
  {
   "cell_type": "code",
   "execution_count": 118,
   "id": "5c0913a0-92d8-440e-ae56-e0d65aa00634",
   "metadata": {},
   "outputs": [
    {
     "data": {
      "text/plain": [
       "<Axes: >"
      ]
     },
     "execution_count": 118,
     "metadata": {},
     "output_type": "execute_result"
    },
    {
     "data": {
      "image/png": "[encoded data removed]",
      "text/plain": [
       "<Figure size 1200x800 with 2 Axes>"
      ]
     },
     "metadata": {},
     "output_type": "display_data"
    }
   ],
   "source": [
    "df.describe()\n",
    "plt.figure(figsize=(12,8))\n",
    "sns.heatmap(df.describe(), linewidth=0.1, fmt='0.1f', annot=True, cmap='PiYG')"
   ]
  },
  {
   "cell_type": "code",
   "execution_count": 119,
   "id": "b2328480-c05e-48ed-a745-bbe1693afbe4",
   "metadata": {},
   "outputs": [
    {
     "data": {
      "text/plain": [
       "(array([1., 1., 1., 0., 0., 0., 1., 2., 0., 4.]),\n",
       " array([52. , 55.7, 59.4, 63.1, 66.8, 70.5, 74.2, 77.9, 81.6, 85.3, 89. ]),\n",
       " <BarContainer object of 10 artists>)"
      ]
     },
     "execution_count": 119,
     "metadata": {},
     "output_type": "execute_result"
    },
    {
     "data": {
      "image/png": "[encoded data removed]",
      "text/plain": [
       "<Figure size 640x480 with 1 Axes>"
      ]
     },
     "metadata": {},
     "output_type": "display_data"
    }
   ],
   "source": [
    "plt.hist(df['Chemistry'])"
   ]
  },
  {
   "cell_type": "code",
   "execution_count": 120,
   "id": "2a40e5e1-460a-4196-a673-cf1d2c2a8a42",
   "metadata": {},
   "outputs": [
    {
     "data": {
      "text/plain": [
       "<Axes: xlabel='Maths', ylabel='Count'>"
      ]
     },
     "execution_count": 120,
     "metadata": {},
     "output_type": "execute_result"
    },
    {
     "data": {
      "image/png": "[encoded data removed]",
      "text/plain": [
       "<Figure size 640x480 with 1 Axes>"
      ]
     },
     "metadata": {},
     "output_type": "display_data"
    }
   ],
   "source": [
    "sns.histplot(df['Maths'], kde=True, bins=20, color='blue')"
   ]
  },
  {
   "cell_type": "code",
   "execution_count": 121,
   "id": "07ed57ff-36fc-4136-9df4-588d55361e89",
   "metadata": {},
   "outputs": [
    {
     "data": {
      "image/png": "[encoded data removed]",
      "text/plain": [
       "<Figure size 640x480 with 1 Axes>"
      ]
     },
     "metadata": {},
     "output_type": "display_data"
    }
   ],
   "source": [
    "plt.hist(df['Maths'], bins=20, color='blue', edgecolor='black', alpha=0.7)\n",
    "\n",
    "plt.title(\"Distribution of Maths Scores\")\n",
    "plt.xlabel(\"Maths Scores\")\n",
    "plt.ylabel(\"Frequency\")\n",
    "plt.show()"
   ]
  },
  {
   "cell_type": "markdown",
   "id": "eda40c8e-6cb6-489c-88a1-9805ff88357d",
   "metadata": {},
   "source": [
    "## Statistics With scipy libary "
   ]
  },
  {
   "cell_type": "code",
   "execution_count": 122,
   "id": "0eee8f28-1d06-494b-b082-b448cc4b03a9",
   "metadata": {},
   "outputs": [],
   "source": [
    "import scipy as sc"
   ]
  },
  {
   "cell_type": "code",
   "execution_count": 123,
   "id": "ec4e1ac7-957d-4f9a-971b-2e5b2c8482a4",
   "metadata": {},
   "outputs": [
    {
     "data": {
      "text/plain": [
       "Index(['sepal length', 'sepal width', 'petal length', 'petal width', 'class'], dtype='object')"
      ]
     },
     "execution_count": 123,
     "metadata": {},
     "output_type": "execute_result"
    }
   ],
   "source": [
    "data.columns"
   ]
  },
  {
   "cell_type": "code",
   "execution_count": 124,
   "id": "f805250a-13c1-496c-88eb-987843d7bf4e",
   "metadata": {},
   "outputs": [
    {
     "name": "stderr",
     "output_type": "stream",
     "text": [
      "C:\\Users\\bhimr\\AppData\\Local\\Temp\\ipykernel_46044\\4097263104.py:1: DeprecationWarning: scipy.mean is deprecated and will be removed in SciPy 2.0.0, use numpy.mean instead\n",
      "  sc.mean(data['sepal length'])\n"
     ]
    },
    {
     "data": {
      "text/plain": [
       "5.843333333333334"
      ]
     },
     "execution_count": 124,
     "metadata": {},
     "output_type": "execute_result"
    }
   ],
   "source": [
    "sc.mean(data['sepal length'])"
   ]
  },
  {
   "cell_type": "code",
   "execution_count": 125,
   "id": "7e18882e-bd4f-433f-812c-2662a2c7174e",
   "metadata": {},
   "outputs": [
    {
     "name": "stderr",
     "output_type": "stream",
     "text": [
      "C:\\Users\\bhimr\\AppData\\Local\\Temp\\ipykernel_46044\\2238408411.py:1: DeprecationWarning: scipy.mean is deprecated and will be removed in SciPy 2.0.0, use numpy.mean instead\n",
      "  round(sc.mean(data['sepal width']),2)\n"
     ]
    },
    {
     "data": {
      "text/plain": [
       "3.05"
      ]
     },
     "execution_count": 125,
     "metadata": {},
     "output_type": "execute_result"
    }
   ],
   "source": [
    "round(sc.mean(data['sepal width']),2)"
   ]
  },
  {
   "cell_type": "code",
   "execution_count": 126,
   "id": "cf2633a4-e6a9-44db-bb06-60e1fc2c1d39",
   "metadata": {},
   "outputs": [
    {
     "name": "stderr",
     "output_type": "stream",
     "text": [
      "C:\\Users\\bhimr\\AppData\\Local\\Temp\\ipykernel_46044\\682598021.py:1: DeprecationWarning: scipy.median is deprecated and will be removed in SciPy 2.0.0, use numpy.median instead\n",
      "  sc.median(data['petal length'])\n"
     ]
    },
    {
     "data": {
      "text/plain": [
       "4.35"
      ]
     },
     "execution_count": 126,
     "metadata": {},
     "output_type": "execute_result"
    }
   ],
   "source": [
    "sc.median(data['petal length'])"
   ]
  },
  {
   "cell_type": "code",
   "execution_count": 127,
   "id": "25e2f7e8-3ed0-496f-a5fd-3accdfede0f6",
   "metadata": {},
   "outputs": [],
   "source": [
    "import warnings\n",
    "warnings.filterwarnings('ignore')"
   ]
  },
  {
   "cell_type": "code",
   "execution_count": 128,
   "id": "aebf9da2-8883-4d17-a354-b4f56e67033c",
   "metadata": {},
   "outputs": [
    {
     "name": "stdout",
     "output_type": "stream",
     "text": [
      "ModeResult(mode=array([1.5]), count=array([14]))\n"
     ]
    }
   ],
   "source": [
    "from scipy import stats\n",
    "mode_value=stats.mode(data['petal length'], keepdims=True)\n",
    "print(mode_value)"
   ]
  },
  {
   "cell_type": "code",
   "execution_count": 129,
   "id": "82703d00-4a53-42c7-9d94-477ad0ce7d21",
   "metadata": {},
   "outputs": [
    {
     "data": {
      "text/plain": [
       "0.6811222222222222"
      ]
     },
     "execution_count": 129,
     "metadata": {},
     "output_type": "execute_result"
    }
   ],
   "source": [
    "sc.var(data['sepal length'])"
   ]
  },
  {
   "cell_type": "code",
   "execution_count": 130,
   "id": "b4a10ece-e459-4038-9d98-b6b54d55bb37",
   "metadata": {},
   "outputs": [
    {
     "data": {
      "text/plain": [
       "0.4321465800705435"
      ]
     },
     "execution_count": 130,
     "metadata": {},
     "output_type": "execute_result"
    }
   ],
   "source": [
    "sc.std(data['sepal width'])"
   ]
  },
  {
   "cell_type": "code",
   "execution_count": 131,
   "id": "d1d725e4-52d7-480b-8870-4bbc281c5526",
   "metadata": {},
   "outputs": [],
   "source": [
    "# Percentile \n",
    "from scipy.stats import percentileofscore\n",
    "df = pd.read_csv('student_marks.csv')"
   ]
  },
  {
   "cell_type": "code",
   "execution_count": 132,
   "id": "5340b52e-bf15-4123-826d-c9740b238457",
   "metadata": {},
   "outputs": [
    {
     "data": {
      "text/plain": [
       "70.0"
      ]
     },
     "execution_count": 132,
     "metadata": {},
     "output_type": "execute_result"
    }
   ],
   "source": [
    "percentileofscore(df['Maths'],60)"
   ]
  },
  {
   "cell_type": "code",
   "execution_count": 133,
   "id": "3015ee98-769d-47ab-9e63-707cadcb857f",
   "metadata": {},
   "outputs": [
    {
     "data": {
      "text/plain": [
       "60.0"
      ]
     },
     "execution_count": 133,
     "metadata": {},
     "output_type": "execute_result"
    }
   ],
   "source": [
    "percentileofscore(df['English'],75)"
   ]
  },
  {
   "cell_type": "code",
   "execution_count": 134,
   "id": "0802abee-5215-409f-8a2e-8cec6f0bdf0d",
   "metadata": {},
   "outputs": [
    {
     "data": {
      "text/plain": [
       "30.0"
      ]
     },
     "execution_count": 134,
     "metadata": {},
     "output_type": "execute_result"
    }
   ],
   "source": [
    "percentileofscore(df['Physics'],60)"
   ]
  },
  {
   "cell_type": "markdown",
   "id": "158e9715-6e16-4235-bf3f-7760639c7daf",
   "metadata": {},
   "source": [
    "## Zscore "
   ]
  },
  {
   "cell_type": "code",
   "execution_count": 135,
   "id": "8925e2a7-2c73-467a-bce7-bb1d0781374a",
   "metadata": {},
   "outputs": [],
   "source": [
    "from scipy.stats import zscore"
   ]
  },
  {
   "cell_type": "code",
   "execution_count": 136,
   "id": "e154dadc-ab08-44ea-930d-aba54d9705e7",
   "metadata": {},
   "outputs": [
    {
     "data": {
      "text/plain": [
       "array([ 1.58361516, -0.15836152, -1.18771137, -0.23754227])"
      ]
     },
     "execution_count": 136,
     "metadata": {},
     "output_type": "execute_result"
    }
   ],
   "source": [
    "zscore([56,34,21,33])"
   ]
  },
  {
   "cell_type": "code",
   "execution_count": 137,
   "id": "9f44f6d6-9c6d-4f9c-9df8-f169de092267",
   "metadata": {},
   "outputs": [
    {
     "name": "stdout",
     "output_type": "stream",
     "text": [
      "   Maths  Zscore\n",
      "0     50    -1.5\n",
      "1     60    -1.0\n",
      "2     70    -0.5\n",
      "3     80     0.0\n",
      "4     90     0.5\n",
      "5    100     1.0\n",
      "6    110     1.5\n"
     ]
    }
   ],
   "source": [
    "# Sample dataset\n",
    "data = {'Maths': [50, 60, 70, 80, 90, 100, 110]}\n",
    "df = pd.DataFrame(data)\n",
    "# Compute Z-score for the 'Maths' column\n",
    "df['Zscore'] = zscore(df['Maths'])\n",
    "\n",
    "print(df)"
   ]
  },
  {
   "cell_type": "code",
   "execution_count": 138,
   "id": "e8233863-b52e-4840-be30-3c7194f2f1ef",
   "metadata": {},
   "outputs": [],
   "source": [
    "# By using formula \n",
    "df['Zscore_manual'] = (df['Maths'] - df['Maths'].mean()) / df['Maths'].std()"
   ]
  },
  {
   "cell_type": "code",
   "execution_count": 139,
   "id": "4acbd299-945e-494a-9a00-ee32101f16a8",
   "metadata": {},
   "outputs": [
    {
     "data": {
      "text/plain": [
       "0   -1.38873\n",
       "1   -0.92582\n",
       "2   -0.46291\n",
       "3    0.00000\n",
       "4    0.46291\n",
       "5    0.92582\n",
       "6    1.38873\n",
       "Name: Zscore_manual, dtype: float64"
      ]
     },
     "execution_count": 139,
     "metadata": {},
     "output_type": "execute_result"
    }
   ],
   "source": [
    "df['Zscore_manual']"
   ]
  },
  {
   "cell_type": "markdown",
   "id": "bf6adbe3-9bfe-4eb4-bd07-70d47a92bc42",
   "metadata": {},
   "source": [
    "## Z-test\n",
    "- A Z-test is a statistical test used to determine whether there is a significant difference between the means of two groups when the sample size is large and the population standard deviation is known. It's often used when comparing a sample mean to a known population mean, or when comparing two independent samples. The Z-test statistic measures how many standard deviations a data point is from the mean of the sample or population.\n",
    "\n",
    "- The Z-test compares this Z-test statistic to a standard normal distribution (mean = 0, standard deviation = 1) to determine the probability (p-value) of observing the sample mean if the null hypothesis (typically stating t there is no difference between the means) is true.\n",
    "\n",
    "- If the p-value is less than a predetermined significance level (often denoted as α), typically 0.05, then the null hypothesis is rejected in favor of the alternative hypothesis, suggesting that there is a significant difference between the means of the two groups."
   ]
  },
  {
   "cell_type": "code",
   "execution_count": 140,
   "id": "f532d12e-b088-4369-9963-a4762b449d51",
   "metadata": {},
   "outputs": [],
   "source": [
    "import numpy as np\n",
    "import scipy.stats as stats"
   ]
  },
  {
   "cell_type": "code",
   "execution_count": 141,
   "id": "bd847b75-1d1e-4a23-b9db-e9a35ee20094",
   "metadata": {},
   "outputs": [],
   "source": [
    "# Examples- 1 \n",
    "sample_mean=110\n",
    "population_mean=100\n",
    "population_std=15\n",
    "sample_size=50\n",
    "alpha=0.05"
   ]
  },
  {
   "cell_type": "code",
   "execution_count": 142,
   "id": "295ed2a2-5285-452e-b370-ed0b36eae8ae",
   "metadata": {},
   "outputs": [
    {
     "data": {
      "text/plain": [
       "0.95"
      ]
     },
     "execution_count": 142,
     "metadata": {},
     "output_type": "execute_result"
    }
   ],
   "source": [
    "confidence_interval=1-0.05\n",
    "confidence_interval"
   ]
  },
  {
   "cell_type": "code",
   "execution_count": 143,
   "id": "de23cbce-b5a5-4ac2-bbbf-f5c89c02dafb",
   "metadata": {},
   "outputs": [],
   "source": [
    "z_score = (sample_mean - population_mean) / (population_std /np.sqrt(50))"
   ]
  },
  {
   "cell_type": "code",
   "execution_count": 144,
   "id": "4822d129-0f7f-4283-9320-82da7f1a9d27",
   "metadata": {},
   "outputs": [
    {
     "data": {
      "text/plain": [
       "4.714045207910317"
      ]
     },
     "execution_count": 144,
     "metadata": {},
     "output_type": "execute_result"
    }
   ],
   "source": [
    "z_score"
   ]
  },
  {
   "cell_type": "code",
   "execution_count": 145,
   "id": "c60de500-0e02-408f-a116-3ea5a2e9f525",
   "metadata": {},
   "outputs": [],
   "source": [
    "z_ceritical = stats.norm.ppf(confidence_interval)"
   ]
  },
  {
   "cell_type": "code",
   "execution_count": 146,
   "id": "098ae141-67aa-4bbe-85f1-d52f25264f4c",
   "metadata": {},
   "outputs": [
    {
     "name": "stdout",
     "output_type": "stream",
     "text": [
      "reject the null hypothesis\n"
     ]
    }
   ],
   "source": [
    "if z_score > z_ceritical:\n",
    "    print('reject the null hypothesis')\n",
    "else:\n",
    "    print('fail to reject the null hypothesis')"
   ]
  },
  {
   "cell_type": "code",
   "execution_count": 147,
   "id": "4a32e160-3dea-4037-a7a4-2d93edd1fb66",
   "metadata": {},
   "outputs": [],
   "source": [
    "p_value = 1 - .9999966"
   ]
  },
  {
   "cell_type": "code",
   "execution_count": 148,
   "id": "2e0eaab8-d329-44fb-855c-19b85f212230",
   "metadata": {},
   "outputs": [
    {
     "name": "stdout",
     "output_type": "stream",
     "text": [
      "reject the null hypothesis\n"
     ]
    }
   ],
   "source": [
    "if z_score > z_ceritical:\n",
    "    print('reject the null hypothesis')\n",
    "else:\n",
    "    print('fail to reject the null hypothesis')"
   ]
  },
  {
   "cell_type": "code",
   "execution_count": 149,
   "id": "1bc4e747-d94d-4384-b175-cfda2a96537b",
   "metadata": {},
   "outputs": [],
   "source": [
    "# Example 2 \n",
    "sample_mean=169.5\n",
    "population_mean=168\n",
    "population_std=3.9\n",
    "sample_size=36\n",
    "alpha=0.05"
   ]
  },
  {
   "cell_type": "code",
   "execution_count": 150,
   "id": "1fa1630b-32b3-40c3-bb09-1be5ba016fac",
   "metadata": {},
   "outputs": [
    {
     "data": {
      "text/plain": [
       "0.95"
      ]
     },
     "execution_count": 150,
     "metadata": {},
     "output_type": "execute_result"
    }
   ],
   "source": [
    "confidence_interval = 1-alpha\n",
    "confidence_interval"
   ]
  },
  {
   "cell_type": "code",
   "execution_count": 151,
   "id": "106b8689-727d-494d-bfc7-b1375202f4c7",
   "metadata": {},
   "outputs": [
    {
     "data": {
      "text/plain": [
       "0.975"
      ]
     },
     "execution_count": 151,
     "metadata": {},
     "output_type": "execute_result"
    }
   ],
   "source": [
    "AUC = 1- (alpha/2)\n",
    "AUC"
   ]
  },
  {
   "cell_type": "code",
   "execution_count": 152,
   "id": "a400887e-91ed-4dc1-a976-370ac1f60a25",
   "metadata": {},
   "outputs": [],
   "source": [
    "z_score = (sample_mean - population_mean) / (population_std/np.sqrt(36))"
   ]
  },
  {
   "cell_type": "code",
   "execution_count": 153,
   "id": "7cd84649-f539-4813-898e-80c73f59d32d",
   "metadata": {},
   "outputs": [
    {
     "data": {
      "text/plain": [
       "2.3076923076923075"
      ]
     },
     "execution_count": 153,
     "metadata": {},
     "output_type": "execute_result"
    }
   ],
   "source": [
    "z_score"
   ]
  },
  {
   "cell_type": "code",
   "execution_count": 154,
   "id": "a423210e-4283-46db-adf0-c910059daa79",
   "metadata": {},
   "outputs": [],
   "source": [
    "z_ceritical = stats.norm.ppf(confidence_interval)"
   ]
  },
  {
   "cell_type": "code",
   "execution_count": 155,
   "id": "a3dfce1d-e0cc-4ca5-b591-6cae8eff29b2",
   "metadata": {},
   "outputs": [
    {
     "data": {
      "text/plain": [
       "1.6448536269514722"
      ]
     },
     "execution_count": 155,
     "metadata": {},
     "output_type": "execute_result"
    }
   ],
   "source": [
    "z_ceritical"
   ]
  },
  {
   "cell_type": "code",
   "execution_count": 156,
   "id": "a0840a28-1012-4966-b573-9e7c5820b0cd",
   "metadata": {},
   "outputs": [
    {
     "name": "stdout",
     "output_type": "stream",
     "text": [
      "reject the null hypothesis\n"
     ]
    }
   ],
   "source": [
    "if z_score > z_ceritical:\n",
    "    print('reject the null hypothesis')\n",
    "else:\n",
    "    print('fail to reject the null hypothesis')"
   ]
  },
  {
   "cell_type": "markdown",
   "id": "f9933399-8c60-4830-a416-97124aecd755",
   "metadata": {},
   "source": [
    "## P-value\n",
    "- The P_value is probability value is measured to determine streagth of evidence against the null hypothesis.\n",
    "  \n",
    "- It calculate from sample data assuming that the null hypothesis is true.\n",
    "  \n",
    "- The P-value depends on the significance level(aplpha)\n",
    "  \n",
    "- if p-value ≤ 0.05 then (H1) Alternative hypothesis Accepted\n",
    "\n",
    "- if p-value ≥ 0.05 then (H0) null hypothesis Accepted\n",
    "  \n"
   ]
  },
  {
   "cell_type": "code",
   "execution_count": 157,
   "id": "03ca6369-56e3-400d-8eb9-ec29f7475502",
   "metadata": {},
   "outputs": [],
   "source": [
    "p_value = 1 - .9911"
   ]
  },
  {
   "cell_type": "code",
   "execution_count": 158,
   "id": "02f84f59-b007-4a2c-a810-637cb78f1212",
   "metadata": {},
   "outputs": [
    {
     "name": "stdout",
     "output_type": "stream",
     "text": [
      "reject the null hypothesis\n"
     ]
    }
   ],
   "source": [
    "if p_value < alpha:\n",
    "    print(\"reject the null hypothesis\")\n",
    "else:\n",
    "    print(\"fail to reject the null hypothesis\")"
   ]
  },
  {
   "cell_type": "markdown",
   "id": "b67b0c99-3e7e-420e-851c-fdba602e863a",
   "metadata": {},
   "source": [
    "## Z- test "
   ]
  },
  {
   "cell_type": "code",
   "execution_count": 159,
   "id": "56ceaf71-c88a-4272-be28-6380a932d45f",
   "metadata": {},
   "outputs": [],
   "source": [
    "from numpy.random import randn\n",
    "mydata = randn(500)\n"
   ]
  },
  {
   "cell_type": "code",
   "execution_count": 160,
   "id": "d51ce3a9-efea-40fa-82b2-08be2ef1898a",
   "metadata": {},
   "outputs": [
    {
     "data": {
      "text/plain": [
       "<Axes: ylabel='Density'>"
      ]
     },
     "execution_count": 160,
     "metadata": {},
     "output_type": "execute_result"
    },
    {
     "data": {
      "image/png": "[encoded data removed]",
      "text/plain": [
       "<Figure size 640x480 with 1 Axes>"
      ]
     },
     "metadata": {},
     "output_type": "display_data"
    }
   ],
   "source": [
    "sns.distplot(mydata)"
   ]
  },
  {
   "cell_type": "code",
   "execution_count": 161,
   "id": "2411d2a1-1406-459c-9c70-eb88a4e278a3",
   "metadata": {},
   "outputs": [
    {
     "data": {
      "text/plain": [
       "NormaltestResult(statistic=2.169759947444442, pvalue=0.3379423454223846)"
      ]
     },
     "execution_count": 161,
     "metadata": {},
     "output_type": "execute_result"
    }
   ],
   "source": [
    "from scipy import stats\n",
    "stats.normaltest(mydata)"
   ]
  },
  {
   "cell_type": "code",
   "execution_count": 162,
   "id": "fa70f22e-0d33-426b-bd0c-3afb7174691b",
   "metadata": {},
   "outputs": [],
   "source": [
    "sample_mean_iq=110\n",
    "alpha =0.05\n",
    "CI=0.95"
   ]
  },
  {
   "cell_type": "code",
   "execution_count": 163,
   "id": "8ac2aad2-c518-4312-828c-12b1b281ce5e",
   "metadata": {},
   "outputs": [],
   "source": [
    "mean_population=100\n",
    "population_std=15"
   ]
  },
  {
   "cell_type": "code",
   "execution_count": 164,
   "id": "ce271cbb-56ff-479f-af0a-02666079dfe7",
   "metadata": {},
   "outputs": [
    {
     "data": {
      "text/plain": [
       "array([ 80.30940337, 116.86215873,  85.79112646, 111.02930677,\n",
       "       106.17819185, 141.76477734,  88.68194538, 114.84179168,\n",
       "       118.11820457, 115.1342442 , 114.94617219,  87.6061206 ,\n",
       "        98.293621  ,  91.73819608, 122.70034426, 139.54904255,\n",
       "       105.08326595,  99.3270727 ,  92.17759199, 120.07776715,\n",
       "        95.68912894, 122.5128745 , 129.98561321, 107.36667244,\n",
       "       107.47291435, 125.49231992, 114.6193047 ,  79.37781173,\n",
       "       111.72352937,  88.74673006,  89.94181392, 123.20932643,\n",
       "       136.757997  , 104.23600079, 120.74399285,  99.52232743,\n",
       "       118.18900917, 107.52565813,  82.2914563 , 109.97561912,\n",
       "       120.75618665, 106.44725299, 114.84393789,  97.4485165 ,\n",
       "       103.7755969 , 105.47952044, 105.52456976,  94.92821959,\n",
       "       128.32232841,  98.30089998])"
      ]
     },
     "execution_count": 164,
     "metadata": {},
     "output_type": "execute_result"
    }
   ],
   "source": [
    "population_std * randn(50) + sample_mean_iq"
   ]
  },
  {
   "cell_type": "code",
   "execution_count": 165,
   "id": "a3cd9b96-d5b5-4b1e-b96a-1e37c11420ce",
   "metadata": {},
   "outputs": [],
   "source": [
    "data=population_std * randn(50) + sample_mean_iq"
   ]
  },
  {
   "cell_type": "code",
   "execution_count": 166,
   "id": "cd409fb8-8daa-46db-b497-0f6b31aa1491",
   "metadata": {},
   "outputs": [
    {
     "data": {
      "text/plain": [
       "109.86763528917301"
      ]
     },
     "execution_count": 166,
     "metadata": {},
     "output_type": "execute_result"
    }
   ],
   "source": [
    "np.mean(data)"
   ]
  },
  {
   "cell_type": "code",
   "execution_count": 167,
   "id": "2666d26a-c565-4cc9-89ce-dbef2667b696",
   "metadata": {},
   "outputs": [
    {
     "data": {
      "text/plain": [
       "13.836373311666275"
      ]
     },
     "execution_count": 167,
     "metadata": {},
     "output_type": "execute_result"
    }
   ],
   "source": [
    "np.std(data)"
   ]
  },
  {
   "cell_type": "code",
   "execution_count": 168,
   "id": "e25e70e9-ead4-429e-b3dd-ea5fb56cbf42",
   "metadata": {},
   "outputs": [],
   "source": [
    "null_hypothesis = mean_population"
   ]
  },
  {
   "cell_type": "code",
   "execution_count": 169,
   "id": "ce70b98d-d4d4-4627-a442-d6c27e2c559b",
   "metadata": {},
   "outputs": [
    {
     "data": {
      "text/plain": [
       "(4.992164165299812, 2.9853235986583226e-07)"
      ]
     },
     "execution_count": 169,
     "metadata": {},
     "output_type": "execute_result"
    }
   ],
   "source": [
    "# Directly we can calcualte ztest \n",
    "\n",
    "from statsmodels.stats.weightstats import ztest\n",
    "\n",
    "ztest(data, value=null_hypothesis, alternative='larger')"
   ]
  },
  {
   "cell_type": "code",
   "execution_count": 170,
   "id": "bd77cce3-d850-47f9-8f66-fcb102692035",
   "metadata": {},
   "outputs": [
    {
     "name": "stdout",
     "output_type": "stream",
     "text": [
      "reject the null hypothesis\n"
     ]
    }
   ],
   "source": [
    "if p_value < alpha:\n",
    "    print(\"reject the null hypothesis\")\n",
    "else:\n",
    "    print(\"fail to reject the null hypothesis\")"
   ]
  },
  {
   "cell_type": "markdown",
   "id": "69782c4b-af6a-4c58-8023-e95f95c85dfd",
   "metadata": {},
   "source": [
    "# One sample t- test"
   ]
  },
  {
   "cell_type": "code",
   "execution_count": 171,
   "id": "39ffd8b4-b2b7-4f2a-8502-b78fb9177404",
   "metadata": {},
   "outputs": [],
   "source": [
    "# Ex 1 \n",
    "assumed_mean = 100\n",
    "sample_size  = 30\n",
    "observed_mean = 140\n",
    "std = 20\n",
    "C_I = 0.95\n",
    "alpha =1-C_I"
   ]
  },
  {
   "cell_type": "code",
   "execution_count": 172,
   "id": "0f310181-6116-4097-b716-e0087c9f3f04",
   "metadata": {},
   "outputs": [],
   "source": [
    "null_hypothesis = assumed_mean "
   ]
  },
  {
   "cell_type": "code",
   "execution_count": 173,
   "id": "e0282bd7-f2c5-4c70-bfe8-836f259aee04",
   "metadata": {},
   "outputs": [],
   "source": [
    "Degree_of_fredom = sample_size -1"
   ]
  },
  {
   "cell_type": "code",
   "execution_count": 174,
   "id": "92ef9741-e236-49e7-91a9-58ec6a28e55e",
   "metadata": {},
   "outputs": [],
   "source": [
    "t_test = (observed_mean - assumed_mean) / (std / np.sqrt (sample_size))"
   ]
  },
  {
   "cell_type": "code",
   "execution_count": 175,
   "id": "a44c7a04-1f08-4a4b-8457-e166adae585f",
   "metadata": {},
   "outputs": [
    {
     "data": {
      "text/plain": [
       "10.954451150103322"
      ]
     },
     "execution_count": 175,
     "metadata": {},
     "output_type": "execute_result"
    }
   ],
   "source": [
    "t_test"
   ]
  },
  {
   "cell_type": "code",
   "execution_count": 176,
   "id": "e0620c19-b77b-476b-9f9b-32df8be78d6a",
   "metadata": {},
   "outputs": [
    {
     "name": "stdout",
     "output_type": "stream",
     "text": [
      "Null hypothesis rejected \n"
     ]
    }
   ],
   "source": [
    "# conclusion \n",
    "\n",
    "if t_test > 2.046 :\n",
    "    print ('Null hypothesis rejected ')\n",
    "    \n",
    "else:\n",
    "    print ('We fail to reject null hypothesis')"
   ]
  },
  {
   "cell_type": "code",
   "execution_count": 177,
   "id": "01e6b32a-4333-4c4b-830f-7f7616bdfa1b",
   "metadata": {},
   "outputs": [],
   "source": [
    "\n",
    "# Ex 2 \n",
    "my_cricket_score = [22,38,19,15,48,11,10,49,47,38,10,25,46,10,21,24,29,36,25,25]"
   ]
  },
  {
   "cell_type": "code",
   "execution_count": 178,
   "id": "31cfa27f-c5c0-4820-8ebb-d313983695fc",
   "metadata": {},
   "outputs": [
    {
     "data": {
      "text/plain": [
       "20"
      ]
     },
     "execution_count": 178,
     "metadata": {},
     "output_type": "execute_result"
    }
   ],
   "source": [
    "len(my_cricket_score)"
   ]
  },
  {
   "cell_type": "code",
   "execution_count": 179,
   "id": "96118a1b-3af6-4f03-9fc0-3d42e7463ae6",
   "metadata": {},
   "outputs": [],
   "source": [
    "sample_mean = np.mean(my_cricket_score)"
   ]
  },
  {
   "cell_type": "markdown",
   "id": "7022b13b-1ae3-4938-abb3-3142233c872d",
   "metadata": {},
   "source": [
    "** null_hypothesis = sample_mean = population_mean **"
   ]
  },
  {
   "cell_type": "code",
   "execution_count": 180,
   "id": "a9137d4d-3849-45dc-b00b-83bbc9b58549",
   "metadata": {},
   "outputs": [
    {
     "data": {
      "text/plain": [
       "TtestResult(statistic=4.131642363779888, pvalue=0.0005672503150661017, df=19)"
      ]
     },
     "execution_count": 180,
     "metadata": {},
     "output_type": "execute_result"
    }
   ],
   "source": [
    "import scipy \n",
    "results = scipy.stats.ttest_1samp(my_cricket_score,15) # 15 is population mean & my_cricket_score is sample_mean \n",
    "results"
   ]
  },
  {
   "cell_type": "code",
   "execution_count": 181,
   "id": "8f387a88-d670-4226-9283-9c73656fa2a7",
   "metadata": {},
   "outputs": [],
   "source": [
    "p_value=results[1]"
   ]
  },
  {
   "cell_type": "code",
   "execution_count": 182,
   "id": "9984b2aa-855b-43e3-8b03-dda7ec09694a",
   "metadata": {},
   "outputs": [
    {
     "name": "stdout",
     "output_type": "stream",
     "text": [
      "reject null hypothesis\n"
     ]
    }
   ],
   "source": [
    "if p_value<=0.05:\n",
    "    print('reject null hypothesis')\n",
    "else:\n",
    "    (' accept the null hypothesis ')"
   ]
  },
  {
   "cell_type": "code",
   "execution_count": 183,
   "id": "03234f41-e266-400f-9dc6-61f22225f508",
   "metadata": {},
   "outputs": [
    {
     "data": {
      "text/plain": [
       "TtestResult(statistic=0.46647575074934183, pvalue=0.6461790490703261, df=19)"
      ]
     },
     "execution_count": 183,
     "metadata": {},
     "output_type": "execute_result"
    }
   ],
   "source": [
    "# Ex 3\n",
    "scipy.stats.ttest_1samp(my_cricket_score,26)"
   ]
  },
  {
   "cell_type": "code",
   "execution_count": 184,
   "id": "925cb70a-03eb-45d4-b5c0-33a5cd058dbc",
   "metadata": {},
   "outputs": [],
   "source": [
    "p_value=scipy.stats.ttest_1samp(my_cricket_score,26)[1]  # 26 is population mean & my_cricket_score is sample_mean "
   ]
  },
  {
   "cell_type": "code",
   "execution_count": 185,
   "id": "f611c02d-87a1-4037-85f0-639abb8e3298",
   "metadata": {},
   "outputs": [
    {
     "data": {
      "text/plain": [
       "0.6461790490703261"
      ]
     },
     "execution_count": 185,
     "metadata": {},
     "output_type": "execute_result"
    }
   ],
   "source": [
    "\n",
    "p_value"
   ]
  },
  {
   "cell_type": "code",
   "execution_count": 186,
   "id": "b829046d-071c-42bb-ad1b-c50db1562129",
   "metadata": {},
   "outputs": [
    {
     "name": "stdout",
     "output_type": "stream",
     "text": [
      "accept the null hypothesis\n"
     ]
    }
   ],
   "source": [
    "if p_value<=0.05:\n",
    "    print('reject null hypothesis')\n",
    "else:\n",
    "    print('accept the null hypothesis')"
   ]
  },
  {
   "cell_type": "markdown",
   "id": "033053cf-0cca-495c-98a7-d671c9fb265d",
   "metadata": {},
   "source": [
    "## Two- sample t-test (w.r.t two independent sample)"
   ]
  },
  {
   "cell_type": "code",
   "execution_count": 187,
   "id": "7458f572-f6cf-4563-b1cb-2608ec909f71",
   "metadata": {},
   "outputs": [
    {
     "name": "stdout",
     "output_type": "stream",
     "text": [
      "P-value: 0.001052825793366539\n"
     ]
    }
   ],
   "source": [
    "from scipy.stats import ttest_ind\n",
    "\n",
    "# Assuming 'sample1' and 'sample2' are your two independent samples\n",
    "# For example:\n",
    "sample1 = [1, 2, 3, 4, 5]\n",
    "sample2 = [6, 7, 8, 9, 10]\n",
    "\n",
    "t_statistic, p_value = ttest_ind(sample1, sample2)\n",
    "\n",
    "print(\"P-value:\", p_value)"
   ]
  },
  {
   "cell_type": "code",
   "execution_count": 188,
   "id": "4ba7ea3f-4b4d-4293-9ee4-d2b3a55e6950",
   "metadata": {},
   "outputs": [
    {
     "name": "stdout",
     "output_type": "stream",
     "text": [
      "reject null hypothesis\n"
     ]
    }
   ],
   "source": [
    "if p_value<=0.05:\n",
    "    print('reject null hypothesis')\n",
    "else:\n",
    "    print('accept the null hypothesis')"
   ]
  },
  {
   "cell_type": "code",
   "execution_count": 189,
   "id": "f6f3940e-d229-436d-bba3-586a2d727d38",
   "metadata": {},
   "outputs": [
    {
     "name": "stdout",
     "output_type": "stream",
     "text": [
      "P-value: 0.08355088442071554\n",
      "Fail to reject the null hypothesis\n"
     ]
    }
   ],
   "source": [
    "# Ex 2 \n",
    "from scipy.stats import ttest_ind\n",
    "import numpy as np\n",
    "\n",
    "# Sample data for Technique A\n",
    "technique_a_scores = [82, 85, 88, 90, 78, 84, 87, 89, 79, 80]\n",
    "\n",
    "# Sample data for Technique B\n",
    "technique_b_scores = [90, 92, 85, 88, 86, 91, 84, 82, 88, 87]\n",
    "\n",
    "# Perform two-sample t-test\n",
    "t_statistic, p_value = ttest_ind(technique_a_scores, technique_b_scores)\n",
    "\n",
    "# Output results\n",
    "print(\"P-value:\", p_value)\n",
    "\n",
    "# Interpret results\n",
    "alpha = 0.05\n",
    "if p_value <= alpha:\n",
    "    print(\"Reject the null hypothesis\")\n",
    "else:\n",
    "    print(\"Fail to reject the null hypothesis\")"
   ]
  },
  {
   "cell_type": "markdown",
   "id": "0c9bb5e8-4737-49ec-9677-0424cdac1159",
   "metadata": {},
   "source": [
    "## Chi-Square test"
   ]
  },
  {
   "cell_type": "code",
   "execution_count": 190,
   "id": "09ecdf0d-96f1-4cb3-9f4e-463328ee57c3",
   "metadata": {},
   "outputs": [
    {
     "name": "stdout",
     "output_type": "stream",
     "text": [
      "Chi-square statistic: 2.3096073517126157\n",
      "P-value: 0.679020433645951\n",
      "Fail to reject the null hypothesis\n"
     ]
    }
   ],
   "source": [
    "# Ex 1\n",
    "from scipy.stats import chi2_contingency\n",
    "\n",
    "# Create a contingency table (observed frequencies)\n",
    "observed = [[10, 20, 30],\n",
    "            [15, 25, 35],\n",
    "            [25, 30, 40]]\n",
    "\n",
    "# Perform chi-square test for independence\n",
    "chi2_statistic, p_value, _, _ = chi2_contingency(observed)\n",
    "\n",
    "# Output results\n",
    "print(\"Chi-square statistic:\", chi2_statistic)\n",
    "print(\"P-value:\", p_value)\n",
    "\n",
    "# Interpret results\n",
    "alpha = 0.05\n",
    "if p_value <= alpha:\n",
    "    print(\"Reject the null hypothesis\")\n",
    "else:\n",
    "    print(\"Fail to reject the null hypothesis\")"
   ]
  },
  {
   "cell_type": "code",
   "execution_count": 191,
   "id": "e9365aab-263e-4db5-858a-1cfcb459fbff",
   "metadata": {},
   "outputs": [
    {
     "name": "stdout",
     "output_type": "stream",
     "text": [
      "Chi-square statistic: 4.0\n",
      "P-value: 0.1353352832366127\n",
      "Fail to reject the null hypothesis\n"
     ]
    }
   ],
   "source": [
    "# Ex 2\n",
    "from scipy.stats import chi2_contingency\n",
    "\n",
    "# Create a contingency table (observed frequencies)\n",
    "observed = [[30, 20, 10],   # Male preference counts for Options A, B, C\n",
    "            [20, 30, 10]]   # Female preference counts for Options A, B, C\n",
    "\n",
    "# Perform chi-square test for independence\n",
    "chi2_statistic, p_value, _, _ = chi2_contingency(observed)\n",
    "\n",
    "# Output results\n",
    "print(\"Chi-square statistic:\", chi2_statistic)\n",
    "print(\"P-value:\", p_value)\n",
    "\n",
    "# Interpret results\n",
    "alpha = 0.05\n",
    "if p_value <= alpha:\n",
    "    print(\"Reject the null hypothesis\")\n",
    "else:\n",
    "    print(\"Fail to reject the null hypothesis\")"
   ]
  },
  {
   "cell_type": "code",
   "execution_count": 192,
   "id": "fa1be7a2-cc93-4650-8a88-0598e2c0afbb",
   "metadata": {},
   "outputs": [
    {
     "name": "stdout",
     "output_type": "stream",
     "text": [
      "Chi-square statistic: 3.8373275236020326\n",
      "P-value: 0.42846858133105536\n",
      "Fail to reject the null hypothesis\n"
     ]
    }
   ],
   "source": [
    "# Ex 3 \n",
    "from scipy.stats import chi2_contingency\n",
    "\n",
    "# Create a contingency table (observed frequencies)\n",
    "observed = [[40, 30, 20],   # Age group 18-24 counts for Facebook, Instagram, Twitter\n",
    "            [25, 35, 15],   # Age group 25-34 counts for Facebook, Instagram, Twitter\n",
    "            [20, 25, 10]]   # Age group 35-44 counts for Facebook, Instagram, Twitter\n",
    "\n",
    "# Perform chi-square test for independence\n",
    "chi2_statistic, p_value, _, _ = chi2_contingency(observed)\n",
    "\n",
    "# Output results\n",
    "print(\"Chi-square statistic:\", chi2_statistic)\n",
    "print(\"P-value:\", p_value)\n",
    "\n",
    "# Interpret results\n",
    "alpha = 0.05\n",
    "if p_value <= alpha:\n",
    "    print(\"Reject the null hypothesis\")\n",
    "else:\n",
    "    print(\"Fail to reject the null hypothesis\")"
   ]
  },
  {
   "cell_type": "code",
   "execution_count": 193,
   "id": "c2315431-ade2-494b-bb3a-15fd2ca73e96",
   "metadata": {},
   "outputs": [
    {
     "name": "stdout",
     "output_type": "stream",
     "text": [
      "Chi-square statistic: 45.99431818181819\n",
      "P-value: 2.469565435623737e-09\n",
      "Reject the null hypothesis\n"
     ]
    }
   ],
   "source": [
    "# Ex 4 \n",
    "from scipy.stats import chi2_contingency\n",
    "\n",
    "# Create a contingency table (observed frequencies)\n",
    "observed = [[50, 30, 10],   # Age group 18-24 counts for Facebook, Instagram, Twitter\n",
    "            [20, 40, 15],   # Age group 25-34 counts for Facebook, Instagram, Twitter\n",
    "            [10, 20, 30]]   # Age group 35-44 counts for Facebook, Instagram, Twitter\n",
    "\n",
    "# Perform chi-square test for independence\n",
    "chi2_statistic, p_value, _, _ = chi2_contingency(observed)\n",
    "\n",
    "# Output results\n",
    "print(\"Chi-square statistic:\", chi2_statistic)\n",
    "print(\"P-value:\", p_value)\n",
    "\n",
    "# Interpret results\n",
    "alpha = 0.05\n",
    "if p_value <= alpha:\n",
    "    print(\"Reject the null hypothesis\")\n",
    "else:\n",
    "    print(\"Fail to reject the null hypothesis\")"
   ]
  },
  {
   "cell_type": "code",
   "execution_count": null,
   "id": "af18d4d7-fb6b-4dc8-8675-edd3799ed0f1",
   "metadata": {},
   "outputs": [],
   "source": []
  }
 ],
 "metadata": {
  "kernelspec": {
   "display_name": "Python 3 (ipykernel)",
   "language": "python",
   "name": "python3"
  },
  "language_info": {
   "codemirror_mode": {
    "name": "ipython",
    "version": 3
   },
   "file_extension": ".py",
   "mimetype": "text/x-python",
   "name": "python",
   "nbconvert_exporter": "python",
   "pygments_lexer": "ipython3",
   "version": "3.11.7"
  }
 },
 "nbformat": 4,
 "nbformat_minor": 5
}
